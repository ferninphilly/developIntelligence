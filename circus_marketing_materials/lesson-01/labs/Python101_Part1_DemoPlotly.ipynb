{
 "cells": [
  {
   "cell_type": "markdown",
   "metadata": {},
   "source": [
    "# Python Programming 101 \n",
    "\n",
    "## Dr J Rogel-Salazar \n",
    "### [j.rogel.datascience@gmail.com](mailto:j.rogel.datascience@gmail.com)\n",
    "\n",
    "## General Assembly - Demo for Plotly\n",
    "\n",
    "This notebook contains a demo for Plotly"
   ]
  },
  {
   "cell_type": "code",
   "execution_count": 1,
   "metadata": {
    "collapsed": false,
    "scrolled": true
   },
   "outputs": [
    {
     "name": "stdout",
     "output_type": "stream",
     "text": [
      "We hate plotly\n"
     ]
    }
   ],
   "source": [
    "# Obligatory 'Hello World' example\n",
    "print(\"We hate plotly\")"
   ]
  },
  {
   "cell_type": "markdown",
   "metadata": {
    "collapsed": true
   },
   "source": [
    "### Plotly\n",
    "A nice open source library for interactive visualisations"
   ]
  },
  {
   "cell_type": "code",
   "execution_count": 8,
   "metadata": {
    "collapsed": false
   },
   "outputs": [
    {
     "name": "stdout",
     "output_type": "stream",
     "text": [
      "Collecting plotly\n",
      "  Downloading plotly-1.12.10.tar.gz (800kB)\n",
      "\u001b[K    100% |████████████████████████████████| 808kB 774kB/s \n",
      "\u001b[?25hCollecting requests (from plotly)\n",
      "  Downloading requests-2.12.2-py2.py3-none-any.whl (575kB)\n",
      "\u001b[K    100% |████████████████████████████████| 583kB 1.0MB/s \n",
      "\u001b[?25hRequirement already up-to-date: six in /Users/fpombeiro/anaconda2/lib/python2.7/site-packages (from plotly)\n",
      "Collecting pytz (from plotly)\n",
      "  Using cached pytz-2016.7-py2.py3-none-any.whl\n",
      "Building wheels for collected packages: plotly\n",
      "  Running setup.py bdist_wheel for plotly ... \u001b[?25l-\b \b\\\b \bdone\n",
      "\u001b[?25h  Stored in directory: /Users/fpombeiro/Library/Caches/pip/wheels/8e/9d/24/cbff1a95d54c38ca99f6986de528227366e39e2d6956dc9b7a\n",
      "Successfully built plotly\n",
      "Installing collected packages: requests, pytz, plotly\n",
      "  Found existing installation: requests 2.11.1\n",
      "    Uninstalling requests-2.11.1:\n",
      "      Successfully uninstalled requests-2.11.1\n",
      "  Found existing installation: pytz 2016.6.1\n",
      "\u001b[33m    DEPRECATION: Uninstalling a distutils installed project (pytz) has been deprecated and will be removed in a future version. This is due to the fact that uninstalling a distutils project will only partially uninstall the project.\u001b[0m\n",
      "    Uninstalling pytz-2016.6.1:\n",
      "      Successfully uninstalled pytz-2016.6.1\n",
      "Successfully installed plotly-1.12.10 pytz-2016.7 requests-2.12.2\n",
      "\u001b[33mYou are using pip version 8.1.2, however version 9.0.1 is available.\n",
      "You should consider upgrading via the 'pip install --upgrade pip' command.\u001b[0m\n"
     ]
    }
   ],
   "source": [
    "# To run any command at the system shell, simply prefix it with !\n",
    "# pip won't work from inside python without it\n",
    "!pip install plotly --upgrade"
   ]
  },
  {
   "cell_type": "code",
   "execution_count": 7,
   "metadata": {
    "collapsed": false
   },
   "outputs": [
    {
     "ename": "ImportError",
     "evalue": "No module named plotly",
     "output_type": "error",
     "traceback": [
      "\u001b[0;31m---------------------------------------------------------------------------\u001b[0m",
      "\u001b[0;31mImportError\u001b[0m                               Traceback (most recent call last)",
      "\u001b[0;32m<ipython-input-7-212b25080b99>\u001b[0m in \u001b[0;36m<module>\u001b[0;34m()\u001b[0m\n\u001b[0;32m----> 1\u001b[0;31m \u001b[0;32mfrom\u001b[0m \u001b[0mplotly\u001b[0m \u001b[0;32mimport\u001b[0m \u001b[0m__version__\u001b[0m\u001b[0;34m\u001b[0m\u001b[0m\n\u001b[0m\u001b[1;32m      2\u001b[0m \u001b[0;32mfrom\u001b[0m \u001b[0mplotly\u001b[0m\u001b[0;34m.\u001b[0m\u001b[0moffline\u001b[0m \u001b[0;32mimport\u001b[0m \u001b[0mdownload_plotlyjs\u001b[0m\u001b[0;34m,\u001b[0m \u001b[0minit_notebook_mode\u001b[0m\u001b[0;34m,\u001b[0m \u001b[0miplot\u001b[0m\u001b[0;34m\u001b[0m\u001b[0m\n\u001b[1;32m      3\u001b[0m \u001b[0;34m\u001b[0m\u001b[0m\n\u001b[1;32m      4\u001b[0m \u001b[0;32mprint\u001b[0m \u001b[0m__version__\u001b[0m \u001b[0;31m# requires version >= 1.9.0\u001b[0m\u001b[0;34m\u001b[0m\u001b[0m\n",
      "\u001b[0;31mImportError\u001b[0m: No module named plotly"
     ]
    }
   ],
   "source": [
    "from plotly import __version__\n",
    "from plotly.offline import download_plotlyjs, init_notebook_mode, iplot\n",
    "\n",
    "print __version__ # requires version >= 1.9.0"
   ]
  },
  {
   "cell_type": "code",
   "execution_count": 6,
   "metadata": {
    "collapsed": false
   },
   "outputs": [
    {
     "ename": "NameError",
     "evalue": "name 'init_notebook_mode' is not defined",
     "output_type": "error",
     "traceback": [
      "\u001b[0;31m---------------------------------------------------------------------------\u001b[0m",
      "\u001b[0;31mNameError\u001b[0m                                 Traceback (most recent call last)",
      "\u001b[0;32m<ipython-input-6-d25ea9427555>\u001b[0m in \u001b[0;36m<module>\u001b[0;34m()\u001b[0m\n\u001b[0;32m----> 1\u001b[0;31m \u001b[0minit_notebook_mode\u001b[0m\u001b[0;34m(\u001b[0m\u001b[0;34m)\u001b[0m \u001b[0;31m# run at the start of every ipython notebook to use plotly.offline\u001b[0m\u001b[0;34m\u001b[0m\u001b[0m\n\u001b[0m\u001b[1;32m      2\u001b[0m                      \u001b[0;31m# this injects the plotly.js source files into the notebook\u001b[0m\u001b[0;34m\u001b[0m\u001b[0;34m\u001b[0m\u001b[0m\n",
      "\u001b[0;31mNameError\u001b[0m: name 'init_notebook_mode' is not defined"
     ]
    }
   ],
   "source": [
    "init_notebook_mode() # run at the start of every ipython notebook to use plotly.offline\n",
    "                     # this injects the plotly.js source files into the notebook"
   ]
  },
  {
   "cell_type": "code",
   "execution_count": 5,
   "metadata": {
    "collapsed": false
   },
   "outputs": [
    {
     "ename": "ImportError",
     "evalue": "No module named plotly.graph_objs",
     "output_type": "error",
     "traceback": [
      "\u001b[0;31m---------------------------------------------------------------------------\u001b[0m",
      "\u001b[0;31mImportError\u001b[0m                               Traceback (most recent call last)",
      "\u001b[0;32m<ipython-input-5-3eaac39e098d>\u001b[0m in \u001b[0;36m<module>\u001b[0;34m()\u001b[0m\n\u001b[0;32m----> 1\u001b[0;31m \u001b[0;32mfrom\u001b[0m \u001b[0mplotly\u001b[0m\u001b[0;34m.\u001b[0m\u001b[0mgraph_objs\u001b[0m \u001b[0;32mimport\u001b[0m \u001b[0;34m*\u001b[0m\u001b[0;34m\u001b[0m\u001b[0m\n\u001b[0m\u001b[1;32m      2\u001b[0m \u001b[0;32mimport\u001b[0m \u001b[0mnumpy\u001b[0m \u001b[0;32mas\u001b[0m \u001b[0mnp\u001b[0m\u001b[0;34m\u001b[0m\u001b[0m\n",
      "\u001b[0;31mImportError\u001b[0m: No module named plotly.graph_objs"
     ]
    }
   ],
   "source": [
    "from plotly.graph_objs import *\n",
    "import numpy as np"
   ]
  },
  {
   "cell_type": "code",
   "execution_count": 4,
   "metadata": {
    "collapsed": false
   },
   "outputs": [
    {
     "ename": "NameError",
     "evalue": "name 'np' is not defined",
     "output_type": "error",
     "traceback": [
      "\u001b[0;31m---------------------------------------------------------------------------\u001b[0m",
      "\u001b[0;31mNameError\u001b[0m                                 Traceback (most recent call last)",
      "\u001b[0;32m<ipython-input-4-bde44e183aac>\u001b[0m in \u001b[0;36m<module>\u001b[0;34m()\u001b[0m\n\u001b[1;32m      1\u001b[0m \u001b[0;31m# Scatter plot with heatmap\u001b[0m\u001b[0;34m\u001b[0m\u001b[0;34m\u001b[0m\u001b[0m\n\u001b[0;32m----> 2\u001b[0;31m \u001b[0mx\u001b[0m \u001b[0;34m=\u001b[0m \u001b[0mnp\u001b[0m\u001b[0;34m.\u001b[0m\u001b[0mrandom\u001b[0m\u001b[0;34m.\u001b[0m\u001b[0mrandn\u001b[0m\u001b[0;34m(\u001b[0m\u001b[0;36m2000\u001b[0m\u001b[0;34m)\u001b[0m\u001b[0;34m\u001b[0m\u001b[0m\n\u001b[0m\u001b[1;32m      3\u001b[0m \u001b[0my\u001b[0m \u001b[0;34m=\u001b[0m \u001b[0mnp\u001b[0m\u001b[0;34m.\u001b[0m\u001b[0mrandom\u001b[0m\u001b[0;34m.\u001b[0m\u001b[0mrandn\u001b[0m\u001b[0;34m(\u001b[0m\u001b[0;36m2000\u001b[0m\u001b[0;34m)\u001b[0m\u001b[0;34m\u001b[0m\u001b[0m\n\u001b[1;32m      4\u001b[0m iplot([Histogram2dContour(x=x, y=y, contours=Contours(coloring='heatmap')),\n\u001b[1;32m      5\u001b[0m        Scatter(x=x, y=y, mode='markers', marker=Marker(color='white', size=3, opacity=0.3))],\n",
      "\u001b[0;31mNameError\u001b[0m: name 'np' is not defined"
     ]
    }
   ],
   "source": [
    "# Scatter plot with heatmap\n",
    "x = np.random.randn(2000)\n",
    "y = np.random.randn(2000)\n",
    "iplot([Histogram2dContour(x=x, y=y, contours=Contours(coloring='heatmap')),\n",
    "       Scatter(x=x, y=y, mode='markers', marker=Marker(color='white', size=3, opacity=0.3))],\n",
    "       show_link=False)"
   ]
  },
  {
   "cell_type": "code",
   "execution_count": 6,
   "metadata": {
    "collapsed": false
   },
   "outputs": [
    {
     "data": {
      "text/html": [
       "<div>\n",
       "<table border=\"1\" class=\"dataframe\">\n",
       "  <thead>\n",
       "    <tr style=\"text-align: right;\">\n",
       "      <th></th>\n",
       "      <th>Africa_Life Expentancy [in years]</th>\n",
       "      <th>Africa_text</th>\n",
       "      <th>Africa_marker.size</th>\n",
       "      <th>Africa_Gross Domestic Product per Capita [in USD of the year 2000]</th>\n",
       "      <th>Americas_Life Expentancy [in years]</th>\n",
       "      <th>Americas_text</th>\n",
       "      <th>Americas_marker.size</th>\n",
       "      <th>Americas_Gross Domestic Product per Capita [in USD of the year 2000]</th>\n",
       "      <th>Asia_Life Expentancy [in years]</th>\n",
       "      <th>Asia_text</th>\n",
       "      <th>Asia_marker.size</th>\n",
       "      <th>Asia_Gross Domestic Product per Capita [in USD of the year 2000]</th>\n",
       "      <th>Europe_Life Expentancy [in years]</th>\n",
       "      <th>Europe_text</th>\n",
       "      <th>Europe_marker.size</th>\n",
       "      <th>Europe_Gross Domestic Product per Capita [in USD of the year 2000]</th>\n",
       "      <th>Oceania_Life Expentancy [in years]</th>\n",
       "      <th>Oceania_text</th>\n",
       "      <th>Oceania_marker.size</th>\n",
       "      <th>Oceania_Gross Domestic Product per Capita [in USD of the year 2000]</th>\n",
       "    </tr>\n",
       "  </thead>\n",
       "  <tbody>\n",
       "    <tr>\n",
       "      <th>0</th>\n",
       "      <td>72.301</td>\n",
       "      <td>Country: Algeria    &lt;br&gt;Life Expectancy: 72.30...</td>\n",
       "      <td>33333216.0</td>\n",
       "      <td>6223.367465</td>\n",
       "      <td>75.320</td>\n",
       "      <td>Country: Argentina    &lt;br&gt;Life Expectancy: 75....</td>\n",
       "      <td>40301927.0</td>\n",
       "      <td>12779.379640</td>\n",
       "      <td>43.828</td>\n",
       "      <td>Country: Afghanistan    &lt;br&gt;Life Expectancy: 4...</td>\n",
       "      <td>3.188992e+07</td>\n",
       "      <td>974.580338</td>\n",
       "      <td>76.423</td>\n",
       "      <td>Country: Albania    &lt;br&gt;Life Expectancy: 76.42...</td>\n",
       "      <td>3600523.0</td>\n",
       "      <td>5937.029526</td>\n",
       "      <td>81.235</td>\n",
       "      <td>Country: Australia    &lt;br&gt;Life Expectancy: 81....</td>\n",
       "      <td>20434176.0</td>\n",
       "      <td>34435.36744</td>\n",
       "    </tr>\n",
       "    <tr>\n",
       "      <th>1</th>\n",
       "      <td>42.731</td>\n",
       "      <td>Country: Angola    &lt;br&gt;Life Expectancy: 42.731...</td>\n",
       "      <td>12420476.0</td>\n",
       "      <td>4797.231267</td>\n",
       "      <td>65.554</td>\n",
       "      <td>Country: Bolivia    &lt;br&gt;Life Expectancy: 65.55...</td>\n",
       "      <td>9119152.0</td>\n",
       "      <td>3822.137084</td>\n",
       "      <td>75.635</td>\n",
       "      <td>Country: Bahrain    &lt;br&gt;Life Expectancy: 75.63...</td>\n",
       "      <td>7.085730e+05</td>\n",
       "      <td>29796.048340</td>\n",
       "      <td>79.829</td>\n",
       "      <td>Country: Austria    &lt;br&gt;Life Expectancy: 79.82...</td>\n",
       "      <td>8199783.0</td>\n",
       "      <td>36126.492700</td>\n",
       "      <td>80.204</td>\n",
       "      <td>Country: New Zealand    &lt;br&gt;Life Expectancy: 8...</td>\n",
       "      <td>4115771.0</td>\n",
       "      <td>25185.00911</td>\n",
       "    </tr>\n",
       "    <tr>\n",
       "      <th>2</th>\n",
       "      <td>56.728</td>\n",
       "      <td>Country: Benin    &lt;br&gt;Life Expectancy: 56.728 ...</td>\n",
       "      <td>8078314.0</td>\n",
       "      <td>1441.284873</td>\n",
       "      <td>72.390</td>\n",
       "      <td>Country: Brazil    &lt;br&gt;Life Expectancy: 72.39 ...</td>\n",
       "      <td>190010647.0</td>\n",
       "      <td>9065.800825</td>\n",
       "      <td>64.062</td>\n",
       "      <td>Country: Bangladesh    &lt;br&gt;Life Expectancy: 64...</td>\n",
       "      <td>1.504483e+08</td>\n",
       "      <td>1391.253792</td>\n",
       "      <td>79.441</td>\n",
       "      <td>Country: Belgium    &lt;br&gt;Life Expectancy: 79.44...</td>\n",
       "      <td>10392226.0</td>\n",
       "      <td>33692.605080</td>\n",
       "      <td>NaN</td>\n",
       "      <td>NaN</td>\n",
       "      <td>NaN</td>\n",
       "      <td>NaN</td>\n",
       "    </tr>\n",
       "    <tr>\n",
       "      <th>3</th>\n",
       "      <td>50.728</td>\n",
       "      <td>Country: Botswana    &lt;br&gt;Life Expectancy: 50.7...</td>\n",
       "      <td>1639131.0</td>\n",
       "      <td>12569.851770</td>\n",
       "      <td>80.653</td>\n",
       "      <td>Country: Canada    &lt;br&gt;Life Expectancy: 80.653...</td>\n",
       "      <td>33390141.0</td>\n",
       "      <td>36319.235010</td>\n",
       "      <td>59.723</td>\n",
       "      <td>Country: Cambodia    &lt;br&gt;Life Expectancy: 59.7...</td>\n",
       "      <td>1.413186e+07</td>\n",
       "      <td>1713.778686</td>\n",
       "      <td>74.852</td>\n",
       "      <td>Country: Bosnia and Herzegovina    &lt;br&gt;Life Ex...</td>\n",
       "      <td>4552198.0</td>\n",
       "      <td>7446.298803</td>\n",
       "      <td>NaN</td>\n",
       "      <td>NaN</td>\n",
       "      <td>NaN</td>\n",
       "      <td>NaN</td>\n",
       "    </tr>\n",
       "    <tr>\n",
       "      <th>4</th>\n",
       "      <td>52.295</td>\n",
       "      <td>Country: Burkina Faso    &lt;br&gt;Life Expectancy: ...</td>\n",
       "      <td>14326203.0</td>\n",
       "      <td>1217.032994</td>\n",
       "      <td>78.553</td>\n",
       "      <td>Country: Chile    &lt;br&gt;Life Expectancy: 78.553 ...</td>\n",
       "      <td>16284741.0</td>\n",
       "      <td>13171.638850</td>\n",
       "      <td>72.961</td>\n",
       "      <td>Country: China    &lt;br&gt;Life Expectancy: 72.961 ...</td>\n",
       "      <td>1.318683e+09</td>\n",
       "      <td>4959.114854</td>\n",
       "      <td>73.005</td>\n",
       "      <td>Country: Bulgaria    &lt;br&gt;Life Expectancy: 73.0...</td>\n",
       "      <td>7322858.0</td>\n",
       "      <td>10680.792820</td>\n",
       "      <td>NaN</td>\n",
       "      <td>NaN</td>\n",
       "      <td>NaN</td>\n",
       "      <td>NaN</td>\n",
       "    </tr>\n",
       "  </tbody>\n",
       "</table>\n",
       "</div>"
      ],
      "text/plain": [
       "   Africa_Life Expentancy [in years]  \\\n",
       "0                             72.301   \n",
       "1                             42.731   \n",
       "2                             56.728   \n",
       "3                             50.728   \n",
       "4                             52.295   \n",
       "\n",
       "                                         Africa_text  Africa_marker.size  \\\n",
       "0  Country: Algeria    <br>Life Expectancy: 72.30...          33333216.0   \n",
       "1  Country: Angola    <br>Life Expectancy: 42.731...          12420476.0   \n",
       "2  Country: Benin    <br>Life Expectancy: 56.728 ...           8078314.0   \n",
       "3  Country: Botswana    <br>Life Expectancy: 50.7...           1639131.0   \n",
       "4  Country: Burkina Faso    <br>Life Expectancy: ...          14326203.0   \n",
       "\n",
       "   Africa_Gross Domestic Product per Capita [in USD of the year 2000]  \\\n",
       "0                                        6223.367465                    \n",
       "1                                        4797.231267                    \n",
       "2                                        1441.284873                    \n",
       "3                                       12569.851770                    \n",
       "4                                        1217.032994                    \n",
       "\n",
       "   Americas_Life Expentancy [in years]  \\\n",
       "0                               75.320   \n",
       "1                               65.554   \n",
       "2                               72.390   \n",
       "3                               80.653   \n",
       "4                               78.553   \n",
       "\n",
       "                                       Americas_text  Americas_marker.size  \\\n",
       "0  Country: Argentina    <br>Life Expectancy: 75....            40301927.0   \n",
       "1  Country: Bolivia    <br>Life Expectancy: 65.55...             9119152.0   \n",
       "2  Country: Brazil    <br>Life Expectancy: 72.39 ...           190010647.0   \n",
       "3  Country: Canada    <br>Life Expectancy: 80.653...            33390141.0   \n",
       "4  Country: Chile    <br>Life Expectancy: 78.553 ...            16284741.0   \n",
       "\n",
       "   Americas_Gross Domestic Product per Capita [in USD of the year 2000]  \\\n",
       "0                                       12779.379640                      \n",
       "1                                        3822.137084                      \n",
       "2                                        9065.800825                      \n",
       "3                                       36319.235010                      \n",
       "4                                       13171.638850                      \n",
       "\n",
       "   Asia_Life Expentancy [in years]  \\\n",
       "0                           43.828   \n",
       "1                           75.635   \n",
       "2                           64.062   \n",
       "3                           59.723   \n",
       "4                           72.961   \n",
       "\n",
       "                                           Asia_text  Asia_marker.size  \\\n",
       "0  Country: Afghanistan    <br>Life Expectancy: 4...      3.188992e+07   \n",
       "1  Country: Bahrain    <br>Life Expectancy: 75.63...      7.085730e+05   \n",
       "2  Country: Bangladesh    <br>Life Expectancy: 64...      1.504483e+08   \n",
       "3  Country: Cambodia    <br>Life Expectancy: 59.7...      1.413186e+07   \n",
       "4  Country: China    <br>Life Expectancy: 72.961 ...      1.318683e+09   \n",
       "\n",
       "   Asia_Gross Domestic Product per Capita [in USD of the year 2000]  \\\n",
       "0                                         974.580338                  \n",
       "1                                       29796.048340                  \n",
       "2                                        1391.253792                  \n",
       "3                                        1713.778686                  \n",
       "4                                        4959.114854                  \n",
       "\n",
       "   Europe_Life Expentancy [in years]  \\\n",
       "0                             76.423   \n",
       "1                             79.829   \n",
       "2                             79.441   \n",
       "3                             74.852   \n",
       "4                             73.005   \n",
       "\n",
       "                                         Europe_text  Europe_marker.size  \\\n",
       "0  Country: Albania    <br>Life Expectancy: 76.42...           3600523.0   \n",
       "1  Country: Austria    <br>Life Expectancy: 79.82...           8199783.0   \n",
       "2  Country: Belgium    <br>Life Expectancy: 79.44...          10392226.0   \n",
       "3  Country: Bosnia and Herzegovina    <br>Life Ex...           4552198.0   \n",
       "4  Country: Bulgaria    <br>Life Expectancy: 73.0...           7322858.0   \n",
       "\n",
       "   Europe_Gross Domestic Product per Capita [in USD of the year 2000]  \\\n",
       "0                                        5937.029526                    \n",
       "1                                       36126.492700                    \n",
       "2                                       33692.605080                    \n",
       "3                                        7446.298803                    \n",
       "4                                       10680.792820                    \n",
       "\n",
       "   Oceania_Life Expentancy [in years]  \\\n",
       "0                              81.235   \n",
       "1                              80.204   \n",
       "2                                 NaN   \n",
       "3                                 NaN   \n",
       "4                                 NaN   \n",
       "\n",
       "                                        Oceania_text  Oceania_marker.size  \\\n",
       "0  Country: Australia    <br>Life Expectancy: 81....           20434176.0   \n",
       "1  Country: New Zealand    <br>Life Expectancy: 8...            4115771.0   \n",
       "2                                                NaN                  NaN   \n",
       "3                                                NaN                  NaN   \n",
       "4                                                NaN                  NaN   \n",
       "\n",
       "   Oceania_Gross Domestic Product per Capita [in USD of the year 2000]  \n",
       "0                                        34435.36744                    \n",
       "1                                        25185.00911                    \n",
       "2                                                NaN                    \n",
       "3                                                NaN                    \n",
       "4                                                NaN                    "
      ]
     },
     "execution_count": 6,
     "metadata": {},
     "output_type": "execute_result"
    }
   ],
   "source": [
    "import pandas as pd\n",
    "df = pd.read_csv('https://plot.ly/~etpinard/191.csv')\n",
    "df.head(5)"
   ]
  },
  {
   "cell_type": "code",
   "execution_count": 7,
   "metadata": {
    "collapsed": false
   },
   "outputs": [
    {
     "data": {
      "text/html": [
       "<div id=\"5873dcff-b4b3-4368-9245-74793a0e3469\" style=\"height: 525px; width: 100%;\" class=\"plotly-graph-div\"></div><script type=\"text/javascript\">require([\"plotly\"], function(Plotly) { window.PLOTLYENV=window.PLOTLYENV || {};window.PLOTLYENV.BASE_URL=\"https://plot.ly\";Plotly.newPlot(\"5873dcff-b4b3-4368-9245-74793a0e3469\", [{\"name\": \"Africa\", \"text\": [\"Country: Algeria    <br>Life Expectancy: 72.301 years    <br>GDP per capita: 6223.367465 $    <br>Population: 33.333216 million\", \"Country: Angola    <br>Life Expectancy: 42.731 years    <br>GDP per capita: 4797.231267 $    <br>Population: 12.420476 million\", \"Country: Benin    <br>Life Expectancy: 56.728 years    <br>GDP per capita: 1441.284873 $    <br>Population: 8.078314 million\", \"Country: Botswana    <br>Life Expectancy: 50.728 years    <br>GDP per capita: 12569.85177 $    <br>Population: 1.639131 million\", \"Country: Burkina Faso    <br>Life Expectancy: 52.295 years    <br>GDP per capita: 1217.032994 $    <br>Population: 14.326203 million\", \"Country: Burundi    <br>Life Expectancy: 49.58 years    <br>GDP per capita: 430.0706916 $    <br>Population: 8.390505 million\", \"Country: Cameroon    <br>Life Expectancy: 50.43 years    <br>GDP per capita: 2042.09524 $    <br>Population: 17.696293 million\", \"Country: Central African Republic    <br>Life Expectancy: 44.741 years    <br>GDP per capita: 706.016537 $    <br>Population: 4.369038 million\", \"Country: Chad    <br>Life Expectancy: 50.651 years    <br>GDP per capita: 1704.063724 $    <br>Population: 10.238807 million\", \"Country: Comoros    <br>Life Expectancy: 65.152 years    <br>GDP per capita: 986.1478792 $    <br>Population: 0.71096 million\", \"Country: Congo, Dem. Rep.    <br>Life Expectancy: 46.462 years    <br>GDP per capita: 277.5518587 $    <br>Population: 64.606759 million\", \"Country: Congo, Rep.    <br>Life Expectancy: 55.322 years    <br>GDP per capita: 3632.557798 $    <br>Population: 3.80061 million\", \"Country: Cote d'Ivoire    <br>Life Expectancy: 48.328 years    <br>GDP per capita: 1544.750112 $    <br>Population: 18.013409 million\", \"Country: Djibouti    <br>Life Expectancy: 54.791 years    <br>GDP per capita: 2082.481567 $    <br>Population: 0.496374 million\", \"Country: Egypt    <br>Life Expectancy: 71.338 years    <br>GDP per capita: 5581.180998 $    <br>Population: 80.264543 million\", \"Country: Equatorial Guinea    <br>Life Expectancy: 51.579 years    <br>GDP per capita: 12154.08975 $    <br>Population: 0.551201 million\", \"Country: Eritrea    <br>Life Expectancy: 58.04 years    <br>GDP per capita: 641.3695236 $    <br>Population: 4.906585 million\", \"Country: Ethiopia    <br>Life Expectancy: 52.947 years    <br>GDP per capita: 690.8055759 $    <br>Population: 76.511887 million\", \"Country: Gabon    <br>Life Expectancy: 56.735 years    <br>GDP per capita: 13206.48452 $    <br>Population: 1.454867 million\", \"Country: Gambia    <br>Life Expectancy: 59.448 years    <br>GDP per capita: 752.7497265 $    <br>Population: 1.688359 million\", \"Country: Ghana    <br>Life Expectancy: 60.022 years    <br>GDP per capita: 1327.60891 $    <br>Population: 22.873338 million\", \"Country: Guinea    <br>Life Expectancy: 56.007 years    <br>GDP per capita: 942.6542111 $    <br>Population: 9.947814 million\", \"Country: Guinea-Bissau    <br>Life Expectancy: 46.388 years    <br>GDP per capita: 579.231743 $    <br>Population: 1.472041 million\", \"Country: Kenya    <br>Life Expectancy: 54.11 years    <br>GDP per capita: 1463.249282 $    <br>Population: 35.610177 million\", \"Country: Lesotho    <br>Life Expectancy: 42.592 years    <br>GDP per capita: 1569.331442 $    <br>Population: 2.012649 million\", \"Country: Liberia    <br>Life Expectancy: 45.678 years    <br>GDP per capita: 414.5073415 $    <br>Population: 3.193942 million\", \"Country: Libya    <br>Life Expectancy: 73.952 years    <br>GDP per capita: 12057.49928 $    <br>Population: 6.036914 million\", \"Country: Madagascar    <br>Life Expectancy: 59.443 years    <br>GDP per capita: 1044.770126 $    <br>Population: 19.167654 million\", \"Country: Malawi    <br>Life Expectancy: 48.303 years    <br>GDP per capita: 759.3499101 $    <br>Population: 13.327079 million\", \"Country: Mali    <br>Life Expectancy: 54.467 years    <br>GDP per capita: 1042.581557 $    <br>Population: 12.031795 million\", \"Country: Mauritania    <br>Life Expectancy: 64.164 years    <br>GDP per capita: 1803.151496 $    <br>Population: 3.270065 million\", \"Country: Mauritius    <br>Life Expectancy: 72.801 years    <br>GDP per capita: 10956.99112 $    <br>Population: 1.250882 million\", \"Country: Morocco    <br>Life Expectancy: 71.164 years    <br>GDP per capita: 3820.17523 $    <br>Population: 33.757175 million\", \"Country: Mozambique    <br>Life Expectancy: 42.082 years    <br>GDP per capita: 823.6856205 $    <br>Population: 19.951656 million\", \"Country: Namibia    <br>Life Expectancy: 52.906 years    <br>GDP per capita: 4811.060429 $    <br>Population: 2.05508 million\", \"Country: Niger    <br>Life Expectancy: 56.867 years    <br>GDP per capita: 619.6768924 $    <br>Population: 12.894865 million\", \"Country: Nigeria    <br>Life Expectancy: 46.859 years    <br>GDP per capita: 2013.977305 $    <br>Population: 135.031164 million\", \"Country: Reunion    <br>Life Expectancy: 76.442 years    <br>GDP per capita: 7670.122558 $    <br>Population: 0.798094 million\", \"Country: Rwanda    <br>Life Expectancy: 46.242 years    <br>GDP per capita: 863.0884639 $    <br>Population: 8.860588 million\", \"Country: Sao Tome and Principe    <br>Life Expectancy: 65.528 years    <br>GDP per capita: 1598.435089 $    <br>Population: 0.199579 million\", \"Country: Senegal    <br>Life Expectancy: 63.062 years    <br>GDP per capita: 1712.472136 $    <br>Population: 12.267493 million\", \"Country: Sierra Leone    <br>Life Expectancy: 42.568 years    <br>GDP per capita: 862.5407561 $    <br>Population: 6.144562 million\", \"Country: Somalia    <br>Life Expectancy: 48.159 years    <br>GDP per capita: 926.1410683 $    <br>Population: 9.118773 million\", \"Country: South Africa    <br>Life Expectancy: 49.339 years    <br>GDP per capita: 9269.657808 $    <br>Population: 43.997828 million\", \"Country: Sudan    <br>Life Expectancy: 58.556 years    <br>GDP per capita: 2602.394995 $    <br>Population: 42.292929 million\", \"Country: Swaziland    <br>Life Expectancy: 39.613 years    <br>GDP per capita: 4513.480643 $    <br>Population: 1.133066 million\", \"Country: Tanzania    <br>Life Expectancy: 52.517 years    <br>GDP per capita: 1107.482182 $    <br>Population: 38.13964 million\", \"Country: Togo    <br>Life Expectancy: 58.42 years    <br>GDP per capita: 882.9699438 $    <br>Population: 5.701579 million\", \"Country: Tunisia    <br>Life Expectancy: 73.923 years    <br>GDP per capita: 7092.923025 $    <br>Population: 10.276158 million\", \"Country: Uganda    <br>Life Expectancy: 51.542 years    <br>GDP per capita: 1056.380121 $    <br>Population: 29.170398 million\", \"Country: Zambia    <br>Life Expectancy: 42.384 years    <br>GDP per capita: 1271.211593 $    <br>Population: 11.746035 million\", \"Country: Zimbabwe    <br>Life Expectancy: 43.487 years    <br>GDP per capita: 469.7092981 $    <br>Population: 12.311143 million\"], \"marker\": {\"sizemode\": \"area\", \"sizeref\": 131868, \"size\": [33333216.0, 12420476.0, 8078314.0, 1639131.0, 14326203.0, 8390505.0, 17696293.0, 4369038.0, 10238807.0, 710960.0, 64606759.0, 3800610.0, 18013409.0, 496374.0, 80264543.0, 551201.0, 4906585.0, 76511887.0, 1454867.0, 1688359.0, 22873338.0, 9947814.0, 1472041.0, 35610177.0, 2012649.0, 3193942.0, 6036914.0, 19167654.0, 13327079.0, 12031795.0, 3270065.0, 1250882.0, 33757175.0, 19951656.0, 2055080.0, 12894865.0, 135031164.0, 798094.0, 8860588.0, 199579.0, 12267493.0, 6144562.0, 9118773.0, 43997828.0, 42292929.0, 1133066.0, 38139640.0, 5701579.0, 10276158.0, 29170398.0, 11746035.0, 12311143.0]}, \"mode\": \"markers\", \"y\": [6223.367465, 4797.231267, 1441.284873, 12569.851770000001, 1217.032994, 430.07069160000003, 2042.0952399999999, 706.016537, 1704.0637239999999, 986.1478792000001, 277.55185869999997, 3632.557798, 1544.750112, 2082.4815670000003, 5581.180998, 12154.08975, 641.3695236000001, 690.8055759, 13206.48452, 752.7497265, 1327.60891, 942.6542111, 579.2317429999999, 1463.249282, 1569.331442, 414.5073415, 12057.49928, 1044.770126, 759.3499101, 1042.581557, 1803.1514960000002, 10956.99112, 3820.17523, 823.6856205, 4811.060429, 619.6768923999999, 2013.9773050000001, 7670.122558, 863.0884639000001, 1598.435089, 1712.4721359999999, 862.5407561000001, 926.1410683, 9269.657808, 2602.394995, 4513.480643, 1107.482182, 882.9699437999999, 7092.923025, 1056.3801210000001, 1271.211593, 469.70929810000007], \"x\": [72.301, 42.731, 56.728, 50.728, 52.295, 49.58, 50.43, 44.74100000000001, 50.651, 65.152, 46.461999999999996, 55.321999999999996, 48.328, 54.791000000000004, 71.33800000000001, 51.57899999999999, 58.04, 52.946999999999996, 56.735, 59.448, 60.022, 56.007, 46.388000000000005, 54.11, 42.592, 45.678000000000004, 73.952, 59.443000000000005, 48.303000000000004, 54.467, 64.164, 72.801, 71.164, 42.082, 52.906000000000006, 56.867, 46.858999999999995, 76.442, 46.242, 65.528, 63.062, 42.568000000000005, 48.159, 49.339, 58.556000000000004, 39.613, 52.516999999999996, 58.42, 73.923, 51.542, 42.38399999999999, 43.486999999999995], \"type\": \"scatter\"}, {\"name\": \"Americas\", \"text\": [\"Country: Argentina    <br>Life Expectancy: 75.32 years    <br>GDP per capita: 12779.37964 $    <br>Population: 40.301927 million\", \"Country: Bolivia    <br>Life Expectancy: 65.554 years    <br>GDP per capita: 3822.137084 $    <br>Population: 9.119152 million\", \"Country: Brazil    <br>Life Expectancy: 72.39 years    <br>GDP per capita: 9065.800825 $    <br>Population: 190.010647 million\", \"Country: Canada    <br>Life Expectancy: 80.653 years    <br>GDP per capita: 36319.23501 $    <br>Population: 33.390141 million\", \"Country: Chile    <br>Life Expectancy: 78.553 years    <br>GDP per capita: 13171.63885 $    <br>Population: 16.284741 million\", \"Country: Colombia    <br>Life Expectancy: 72.889 years    <br>GDP per capita: 7006.580419 $    <br>Population: 44.22755 million\", \"Country: Costa Rica    <br>Life Expectancy: 78.782 years    <br>GDP per capita: 9645.06142 $    <br>Population: 4.133884 million\", \"Country: Cuba    <br>Life Expectancy: 78.273 years    <br>GDP per capita: 8948.102923 $    <br>Population: 11.416987 million\", \"Country: Dominican Republic    <br>Life Expectancy: 72.235 years    <br>GDP per capita: 6025.374752 $    <br>Population: 9.319622 million\", \"Country: Ecuador    <br>Life Expectancy: 74.994 years    <br>GDP per capita: 6873.262326 $    <br>Population: 13.75568 million\", \"Country: El Salvador    <br>Life Expectancy: 71.878 years    <br>GDP per capita: 5728.353514 $    <br>Population: 6.939688 million\", \"Country: Guatemala    <br>Life Expectancy: 70.259 years    <br>GDP per capita: 5186.050003 $    <br>Population: 12.572928 million\", \"Country: Haiti    <br>Life Expectancy: 60.916 years    <br>GDP per capita: 1201.637154 $    <br>Population: 8.502814 million\", \"Country: Honduras    <br>Life Expectancy: 70.198 years    <br>GDP per capita: 3548.330846 $    <br>Population: 7.483763 million\", \"Country: Jamaica    <br>Life Expectancy: 72.567 years    <br>GDP per capita: 7320.880262 $    <br>Population: 2.780132 million\", \"Country: Mexico    <br>Life Expectancy: 76.195 years    <br>GDP per capita: 11977.57496 $    <br>Population: 108.700891 million\", \"Country: Nicaragua    <br>Life Expectancy: 72.899 years    <br>GDP per capita: 2749.320965 $    <br>Population: 5.675356 million\", \"Country: Panama    <br>Life Expectancy: 75.537 years    <br>GDP per capita: 9809.185636 $    <br>Population: 3.242173 million\", \"Country: Paraguay    <br>Life Expectancy: 71.752 years    <br>GDP per capita: 4172.838464 $    <br>Population: 6.667147 million\", \"Country: Peru    <br>Life Expectancy: 71.421 years    <br>GDP per capita: 7408.905561 $    <br>Population: 28.674757 million\", \"Country: Puerto Rico    <br>Life Expectancy: 78.746 years    <br>GDP per capita: 19328.70901 $    <br>Population: 3.942491 million\", \"Country: Trinidad and Tobago    <br>Life Expectancy: 69.819 years    <br>GDP per capita: 18008.50924 $    <br>Population: 1.056608 million\", \"Country: United States    <br>Life Expectancy: 78.242 years    <br>GDP per capita: 42951.65309 $    <br>Population: 301.139947 million\", \"Country: Uruguay    <br>Life Expectancy: 76.384 years    <br>GDP per capita: 10611.46299 $    <br>Population: 3.447496 million\", \"Country: Venezuela    <br>Life Expectancy: 73.747 years    <br>GDP per capita: 11415.80569 $    <br>Population: 26.084662 million\", null, null, null, null, null, null, null, null, null, null, null, null, null, null, null, null, null, null, null, null, null, null, null, null, null, null, null], \"marker\": {\"sizemode\": \"area\", \"sizeref\": 131868, \"size\": [40301927.0, 9119152.0, 190010647.0, 33390141.0, 16284741.0, 44227550.0, 4133884.0, 11416987.0, 9319622.0, 13755680.0, 6939688.0, 12572928.0, 8502814.0, 7483763.0, 2780132.0, 108700891.0, 5675356.0, 3242173.0, 6667147.0, 28674757.0, 3942491.0, 1056608.0, 301139947.0, 3447496.0, 26084662.0, null, null, null, null, null, null, null, null, null, null, null, null, null, null, null, null, null, null, null, null, null, null, null, null, null, null, null]}, \"mode\": \"markers\", \"y\": [12779.379640000001, 3822.1370840000004, 9065.800825, 36319.235010000004, 13171.63885, 7006.580419, 9645.06142, 8948.102923, 6025.374752000001, 6873.262326000001, 5728.353514, 5186.050003, 1201.637154, 3548.3308460000003, 7320.880262000001, 11977.57496, 2749.320965, 9809.185636, 4172.838464, 7408.905561, 19328.70901, 18008.50924, 42951.65309, 10611.46299, 11415.805690000001, null, null, null, null, null, null, null, null, null, null, null, null, null, null, null, null, null, null, null, null, null, null, null, null, null, null, null], \"x\": [75.32, 65.554, 72.39, 80.653, 78.553, 72.889, 78.782, 78.273, 72.235, 74.994, 71.878, 70.259, 60.916000000000004, 70.19800000000001, 72.567, 76.195, 72.899, 75.53699999999999, 71.752, 71.421, 78.74600000000001, 69.819, 78.242, 76.384, 73.747, null, null, null, null, null, null, null, null, null, null, null, null, null, null, null, null, null, null, null, null, null, null, null, null, null, null, null], \"type\": \"scatter\"}, {\"name\": \"Asia\", \"text\": [\"Country: Afghanistan    <br>Life Expectancy: 43.828 years    <br>GDP per capita: 974.5803384 $    <br>Population: 31.889923 million\", \"Country: Bahrain    <br>Life Expectancy: 75.635 years    <br>GDP per capita: 29796.04834 $    <br>Population: 0.708573 million\", \"Country: Bangladesh    <br>Life Expectancy: 64.062 years    <br>GDP per capita: 1391.253792 $    <br>Population: 150.448339 million\", \"Country: Cambodia    <br>Life Expectancy: 59.723 years    <br>GDP per capita: 1713.778686 $    <br>Population: 14.131858 million\", \"Country: China    <br>Life Expectancy: 72.961 years    <br>GDP per capita: 4959.114854 $    <br>Population: 1318.683096 million\", \"Country: Hong Kong, China    <br>Life Expectancy: 82.208 years    <br>GDP per capita: 39724.97867 $    <br>Population: 6.980412 million\", \"Country: India    <br>Life Expectancy: 64.698 years    <br>GDP per capita: 2452.210407 $    <br>Population: 1110.396331 million\", \"Country: Indonesia    <br>Life Expectancy: 70.65 years    <br>GDP per capita: 3540.651564 $    <br>Population: 223.547 million\", \"Country: Iran    <br>Life Expectancy: 70.964 years    <br>GDP per capita: 11605.71449 $    <br>Population: 69.45357 million\", \"Country: Iraq    <br>Life Expectancy: 59.545 years    <br>GDP per capita: 4471.061906 $    <br>Population: 27.499638 million\", \"Country: Israel    <br>Life Expectancy: 80.745 years    <br>GDP per capita: 25523.2771 $    <br>Population: 6.426679 million\", \"Country: Japan    <br>Life Expectancy: 82.603 years    <br>GDP per capita: 31656.06806 $    <br>Population: 127.467972 million\", \"Country: Jordan    <br>Life Expectancy: 72.535 years    <br>GDP per capita: 4519.461171 $    <br>Population: 6.053193 million\", \"Country: Korea, Dem. Rep.    <br>Life Expectancy: 67.297 years    <br>GDP per capita: 1593.06548 $    <br>Population: 23.301725 million\", \"Country: Korea, Rep.    <br>Life Expectancy: 78.623 years    <br>GDP per capita: 23348.13973 $    <br>Population: 49.04479 million\", \"Country: Kuwait    <br>Life Expectancy: 77.588 years    <br>GDP per capita: 47306.98978 $    <br>Population: 2.505559 million\", \"Country: Lebanon    <br>Life Expectancy: 71.993 years    <br>GDP per capita: 10461.05868 $    <br>Population: 3.921278 million\", \"Country: Malaysia    <br>Life Expectancy: 74.241 years    <br>GDP per capita: 12451.6558 $    <br>Population: 24.821286 million\", \"Country: Mongolia    <br>Life Expectancy: 66.803 years    <br>GDP per capita: 3095.772271 $    <br>Population: 2.874127 million\", \"Country: Myanmar    <br>Life Expectancy: 62.069 years    <br>GDP per capita: 944.0 $    <br>Population: 47.76198 million\", \"Country: Nepal    <br>Life Expectancy: 63.785 years    <br>GDP per capita: 1091.359778 $    <br>Population: 28.90179 million\", \"Country: Oman    <br>Life Expectancy: 75.64 years    <br>GDP per capita: 22316.19287 $    <br>Population: 3.204897 million\", \"Country: Pakistan    <br>Life Expectancy: 65.483 years    <br>GDP per capita: 2605.94758 $    <br>Population: 169.270617 million\", \"Country: Philippines    <br>Life Expectancy: 71.688 years    <br>GDP per capita: 3190.481016 $    <br>Population: 91.077287 million\", \"Country: Saudi Arabia    <br>Life Expectancy: 72.777 years    <br>GDP per capita: 21654.83194 $    <br>Population: 27.601038 million\", \"Country: Singapore    <br>Life Expectancy: 79.972 years    <br>GDP per capita: 47143.17964 $    <br>Population: 4.553009 million\", \"Country: Sri Lanka    <br>Life Expectancy: 72.396 years    <br>GDP per capita: 3970.095407 $    <br>Population: 20.378239 million\", \"Country: Syria    <br>Life Expectancy: 74.143 years    <br>GDP per capita: 4184.548089 $    <br>Population: 19.314747 million\", \"Country: Taiwan    <br>Life Expectancy: 78.4 years    <br>GDP per capita: 28718.27684 $    <br>Population: 23.174294 million\", \"Country: Thailand    <br>Life Expectancy: 70.616 years    <br>GDP per capita: 7458.396327 $    <br>Population: 65.068149 million\", \"Country: Vietnam    <br>Life Expectancy: 74.249 years    <br>GDP per capita: 2441.576404 $    <br>Population: 85.262356 million\", \"Country: West Bank and Gaza    <br>Life Expectancy: 73.422 years    <br>GDP per capita: 3025.349798 $    <br>Population: 4.018332 million\", \"Country: Yemen, Rep.    <br>Life Expectancy: 62.698 years    <br>GDP per capita: 2280.769906 $    <br>Population: 22.211743 million\", null, null, null, null, null, null, null, null, null, null, null, null, null, null, null, null, null, null, null], \"marker\": {\"sizemode\": \"area\", \"sizeref\": 131868, \"size\": [31889923.0, 708573.0, 150448339.0, 14131858.0, 1318683096.0, 6980412.0, 1110396331.0, 223547000.0, 69453570.0, 27499638.0, 6426679.0, 127467972.0, 6053193.0, 23301725.0, 49044790.0, 2505559.0, 3921278.0, 24821286.0, 2874127.0, 47761980.0, 28901790.0, 3204897.0, 169270617.0, 91077287.0, 27601038.0, 4553009.0, 20378239.0, 19314747.0, 23174294.0, 65068149.0, 85262356.0, 4018332.0, 22211743.0, null, null, null, null, null, null, null, null, null, null, null, null, null, null, null, null, null, null, null]}, \"mode\": \"markers\", \"y\": [974.5803384, 29796.048339999998, 1391.253792, 1713.7786859999999, 4959.1148539999995, 39724.97867, 2452.210407, 3540.6515640000002, 11605.71449, 4471.061906, 25523.2771, 31656.06806, 4519.461171, 1593.06548, 23348.139730000003, 47306.98978, 10461.05868, 12451.6558, 3095.7722710000003, 944.0, 1091.359778, 22316.19287, 2605.94758, 3190.481016, 21654.83194, 47143.179639999995, 3970.0954070000003, 4184.548089, 28718.27684, 7458.3963269999995, 2441.576404, 3025.349798, 2280.769906, null, null, null, null, null, null, null, null, null, null, null, null, null, null, null, null, null, null, null], \"x\": [43.828, 75.635, 64.062, 59.723, 72.961, 82.208, 64.69800000000001, 70.65, 70.964, 59.545, 80.745, 82.603, 72.535, 67.297, 78.623, 77.58800000000001, 71.993, 74.241, 66.803, 62.068999999999996, 63.785, 75.64, 65.483, 71.688, 72.777, 79.972, 72.396, 74.143, 78.4, 70.616, 74.249, 73.422, 62.698, null, null, null, null, null, null, null, null, null, null, null, null, null, null, null, null, null, null, null], \"type\": \"scatter\"}, {\"name\": \"Europe\", \"text\": [\"Country: Albania    <br>Life Expectancy: 76.423 years    <br>GDP per capita: 5937.029526 $    <br>Population: 3.600523 million\", \"Country: Austria    <br>Life Expectancy: 79.829 years    <br>GDP per capita: 36126.4927 $    <br>Population: 8.199783 million\", \"Country: Belgium    <br>Life Expectancy: 79.441 years    <br>GDP per capita: 33692.60508 $    <br>Population: 10.392226 million\", \"Country: Bosnia and Herzegovina    <br>Life Expectancy: 74.852 years    <br>GDP per capita: 7446.298803 $    <br>Population: 4.552198 million\", \"Country: Bulgaria    <br>Life Expectancy: 73.005 years    <br>GDP per capita: 10680.79282 $    <br>Population: 7.322858 million\", \"Country: Croatia    <br>Life Expectancy: 75.748 years    <br>GDP per capita: 14619.22272 $    <br>Population: 4.493312 million\", \"Country: Czech Republic    <br>Life Expectancy: 76.486 years    <br>GDP per capita: 22833.30851 $    <br>Population: 10.228744 million\", \"Country: Denmark    <br>Life Expectancy: 78.332 years    <br>GDP per capita: 35278.41874 $    <br>Population: 5.46812 million\", \"Country: Finland    <br>Life Expectancy: 79.313 years    <br>GDP per capita: 33207.0844 $    <br>Population: 5.23846 million\", \"Country: France    <br>Life Expectancy: 80.657 years    <br>GDP per capita: 30470.0167 $    <br>Population: 61.083916 million\", \"Country: Germany    <br>Life Expectancy: 79.406 years    <br>GDP per capita: 32170.37442 $    <br>Population: 82.400996 million\", \"Country: Greece    <br>Life Expectancy: 79.483 years    <br>GDP per capita: 27538.41188 $    <br>Population: 10.70629 million\", \"Country: Hungary    <br>Life Expectancy: 73.338 years    <br>GDP per capita: 18008.94444 $    <br>Population: 9.956108 million\", \"Country: Iceland    <br>Life Expectancy: 81.757 years    <br>GDP per capita: 36180.78919 $    <br>Population: 0.301931 million\", \"Country: Ireland    <br>Life Expectancy: 78.885 years    <br>GDP per capita: 40675.99635 $    <br>Population: 4.109086 million\", \"Country: Italy    <br>Life Expectancy: 80.546 years    <br>GDP per capita: 28569.7197 $    <br>Population: 58.147733 million\", \"Country: Montenegro    <br>Life Expectancy: 74.543 years    <br>GDP per capita: 9253.896111 $    <br>Population: 0.684736 million\", \"Country: Netherlands    <br>Life Expectancy: 79.762 years    <br>GDP per capita: 36797.93332 $    <br>Population: 16.570613 million\", \"Country: Norway    <br>Life Expectancy: 80.196 years    <br>GDP per capita: 49357.19017 $    <br>Population: 4.627926 million\", \"Country: Poland    <br>Life Expectancy: 75.563 years    <br>GDP per capita: 15389.92468 $    <br>Population: 38.518241 million\", \"Country: Portugal    <br>Life Expectancy: 78.098 years    <br>GDP per capita: 20509.64777 $    <br>Population: 10.642836 million\", \"Country: Romania    <br>Life Expectancy: 72.476 years    <br>GDP per capita: 10808.47561 $    <br>Population: 22.276056 million\", \"Country: Serbia    <br>Life Expectancy: 74.002 years    <br>GDP per capita: 9786.534714 $    <br>Population: 10.150265 million\", \"Country: Slovak Republic    <br>Life Expectancy: 74.663 years    <br>GDP per capita: 18678.31435 $    <br>Population: 5.447502 million\", \"Country: Slovenia    <br>Life Expectancy: 77.926 years    <br>GDP per capita: 25768.25759 $    <br>Population: 2.009245 million\", \"Country: Spain    <br>Life Expectancy: 80.941 years    <br>GDP per capita: 28821.0637 $    <br>Population: 40.448191 million\", \"Country: Sweden    <br>Life Expectancy: 80.884 years    <br>GDP per capita: 33859.74835 $    <br>Population: 9.031088 million\", \"Country: Switzerland    <br>Life Expectancy: 81.701 years    <br>GDP per capita: 37506.41907 $    <br>Population: 7.554661 million\", \"Country: Turkey    <br>Life Expectancy: 71.777 years    <br>GDP per capita: 8458.276384 $    <br>Population: 71.158647 million\", \"Country: United Kingdom    <br>Life Expectancy: 79.425 years    <br>GDP per capita: 33203.26128 $    <br>Population: 60.776238 million\", null, null, null, null, null, null, null, null, null, null, null, null, null, null, null, null, null, null, null, null, null, null], \"marker\": {\"sizemode\": \"area\", \"sizeref\": 131868, \"size\": [3600523.0, 8199783.0, 10392226.0, 4552198.0, 7322858.0, 4493312.0, 10228744.0, 5468120.0, 5238460.0, 61083916.0, 82400996.0, 10706290.0, 9956108.0, 301931.0, 4109086.0, 58147733.0, 684736.0, 16570613.0, 4627926.0, 38518241.0, 10642836.0, 22276056.0, 10150265.0, 5447502.0, 2009245.0, 40448191.0, 9031088.0, 7554661.0, 71158647.0, 60776238.0, null, null, null, null, null, null, null, null, null, null, null, null, null, null, null, null, null, null, null, null, null, null]}, \"mode\": \"markers\", \"y\": [5937.029525999999, 36126.4927, 33692.60508, 7446.298803, 10680.79282, 14619.222719999998, 22833.30851, 35278.41874, 33207.0844, 30470.0167, 32170.37442, 27538.41188, 18008.94444, 36180.789189999996, 40675.99635, 28569.7197, 9253.896111, 36797.93332, 49357.19017, 15389.924680000002, 20509.64777, 10808.47561, 9786.534714, 18678.31435, 25768.25759, 28821.0637, 33859.74835, 37506.419069999996, 8458.276384, 33203.26128, null, null, null, null, null, null, null, null, null, null, null, null, null, null, null, null, null, null, null, null, null, null], \"x\": [76.423, 79.829, 79.441, 74.852, 73.005, 75.748, 76.486, 78.332, 79.313, 80.657, 79.406, 79.483, 73.33800000000001, 81.757, 78.885, 80.546, 74.543, 79.762, 80.196, 75.563, 78.098, 72.476, 74.002, 74.663, 77.926, 80.941, 80.884, 81.70100000000001, 71.777, 79.425, null, null, null, null, null, null, null, null, null, null, null, null, null, null, null, null, null, null, null, null, null, null], \"type\": \"scatter\"}, {\"name\": \"Oceania\", \"text\": [\"Country: Australia    <br>Life Expectancy: 81.235 years    <br>GDP per capita: 34435.36744 $    <br>Population: 20.434176 million\", \"Country: New Zealand    <br>Life Expectancy: 80.204 years    <br>GDP per capita: 25185.00911 $    <br>Population: 4.115771 million\", null, null, null, null, null, null, null, null, null, null, null, null, null, null, null, null, null, null, null, null, null, null, null, null, null, null, null, null, null, null, null, null, null, null, null, null, null, null, null, null, null, null, null, null, null, null, null, null, null, null], \"marker\": {\"sizemode\": \"area\", \"sizeref\": 131868, \"size\": [20434176.0, 4115771.0, null, null, null, null, null, null, null, null, null, null, null, null, null, null, null, null, null, null, null, null, null, null, null, null, null, null, null, null, null, null, null, null, null, null, null, null, null, null, null, null, null, null, null, null, null, null, null, null, null, null]}, \"mode\": \"markers\", \"y\": [34435.367439999995, 25185.00911, null, null, null, null, null, null, null, null, null, null, null, null, null, null, null, null, null, null, null, null, null, null, null, null, null, null, null, null, null, null, null, null, null, null, null, null, null, null, null, null, null, null, null, null, null, null, null, null, null, null], \"x\": [81.235, 80.204, null, null, null, null, null, null, null, null, null, null, null, null, null, null, null, null, null, null, null, null, null, null, null, null, null, null, null, null, null, null, null, null, null, null, null, null, null, null, null, null, null, null, null, null, null, null, null, null, null, null], \"type\": \"scatter\"}], {\"xaxis\": {\"title\": \"Life Expectancy\"}, \"yaxis\": {\"type\": \"log\", \"title\": \"GDP per Capita\"}}, {\"linkText\": \"Export to plot.ly\", \"showLink\": false})});</script>"
      ],
      "text/plain": [
       "<IPython.core.display.HTML object>"
      ]
     },
     "metadata": {},
     "output_type": "display_data"
    }
   ],
   "source": [
    "iplot({\n",
    "    'data': [\n",
    "        Scatter(x=df[continent+'_Life Expentancy [in years]'],\n",
    "                y=df[continent+'_Gross Domestic Product per Capita [in USD of the year 2000]'],\n",
    "                text=df[continent+'_text'],\n",
    "                marker=Marker(size=df[continent+'_marker.size'], sizemode='area', sizeref=131868,),\n",
    "                mode='markers',\n",
    "                name=continent) for continent in ['Africa', 'Americas', 'Asia', 'Europe', 'Oceania']\n",
    "    ],\n",
    "    'layout': Layout(xaxis=XAxis(title='Life Expectancy'), yaxis=YAxis(title='GDP per Capita', type='log'))\n",
    "}, show_link=False)"
   ]
  },
  {
   "cell_type": "code",
   "execution_count": 8,
   "metadata": {
    "collapsed": false
   },
   "outputs": [
    {
     "data": {
      "text/html": [
       "<div id=\"c333ba73-4591-4c64-9b98-7cf8fdd6d787\" style=\"height: 800px; width: 100%;\" class=\"plotly-graph-div\"></div><script type=\"text/javascript\">require([\"plotly\"], function(Plotly) { window.PLOTLYENV=window.PLOTLYENV || {};window.PLOTLYENV.BASE_URL=\"https://plot.ly\";Plotly.newPlot(\"c333ba73-4591-4c64-9b98-7cf8fdd6d787\", [{\"opacity\": 0.48577680525164113, \"locationmode\": \"USA-states\", \"lon\": [-97.0372, -106.6091944], \"mode\": \"lines\", \"lat\": [32.89595056, 35.04022222], \"line\": {\"color\": \"red\", \"width\": 1}, \"type\": \"scattergeo\"}, {\"opacity\": 0.18161925601750548, \"locationmode\": \"USA-states\", \"lon\": [-87.90446417, -97.66987194], \"mode\": \"lines\", \"lat\": [41.979595, 30.19453278], \"line\": {\"color\": \"red\", \"width\": 1}, \"type\": \"scattergeo\"}, {\"opacity\": 0.1772428884026258, \"locationmode\": \"USA-states\", \"lon\": [-97.0372, -72.68322833], \"mode\": \"lines\", \"lat\": [32.89595056, 41.93887417], \"line\": {\"color\": \"red\", \"width\": 1}, \"type\": \"scattergeo\"}, {\"opacity\": 0.061269146608315096, \"locationmode\": \"USA-states\", \"lon\": [-66.00183333, -72.68322833], \"mode\": \"lines\", \"lat\": [18.43941667, 41.93887417], \"line\": {\"color\": \"red\", \"width\": 1}, \"type\": \"scattergeo\"}, {\"opacity\": 0.1838074398249453, \"locationmode\": \"USA-states\", \"lon\": [-97.0372, -86.75354972], \"mode\": \"lines\", \"lat\": [32.89595056, 33.56294306], \"line\": {\"color\": \"red\", \"width\": 1}, \"type\": \"scattergeo\"}, {\"opacity\": 0.061269146608315096, \"locationmode\": \"USA-states\", \"lon\": [-80.29055556, -86.67818222], \"mode\": \"lines\", \"lat\": [25.79325, 36.12447667], \"line\": {\"color\": \"red\", \"width\": 1}, \"type\": \"scattergeo\"}, {\"opacity\": 0.4617067833698031, \"locationmode\": \"USA-states\", \"lon\": [-97.0372, -71.00517917], \"mode\": \"lines\", \"lat\": [32.89595056, 42.3643475], \"line\": {\"color\": \"red\", \"width\": 1}, \"type\": \"scattergeo\"}, {\"opacity\": 0.4288840262582057, \"locationmode\": \"USA-states\", \"lon\": [-80.29055556, -71.00517917], \"mode\": \"lines\", \"lat\": [25.79325, 42.3643475], \"line\": {\"color\": \"red\", \"width\": 1}, \"type\": \"scattergeo\"}, {\"opacity\": 0.47045951859956237, \"locationmode\": \"USA-states\", \"lon\": [-87.90446417, -71.00517917], \"mode\": \"lines\", \"lat\": [41.979595, 42.3643475], \"line\": {\"color\": \"red\", \"width\": 1}, \"type\": \"scattergeo\"}, {\"opacity\": 0.061269146608315096, \"locationmode\": \"USA-states\", \"lon\": [-66.00183333, -71.00517917], \"mode\": \"lines\", \"lat\": [18.43941667, 42.3643475], \"line\": {\"color\": \"red\", \"width\": 1}, \"type\": \"scattergeo\"}, {\"opacity\": 0.04814004376367615, \"locationmode\": \"USA-states\", \"lon\": [-64.97336111, -71.00517917], \"mode\": \"lines\", \"lat\": [18.33730556, 42.3643475], \"line\": {\"color\": \"red\", \"width\": 1}, \"type\": \"scattergeo\"}, {\"opacity\": 0.12253829321663019, \"locationmode\": \"USA-states\", \"lon\": [-80.29055556, -76.66819833], \"mode\": \"lines\", \"lat\": [25.79325, 39.17540167], \"line\": {\"color\": \"red\", \"width\": 1}, \"type\": \"scattergeo\"}, {\"opacity\": 0.061269146608315096, \"locationmode\": \"USA-states\", \"lon\": [-66.00183333, -76.66819833], \"mode\": \"lines\", \"lat\": [18.43941667, 39.17540167], \"line\": {\"color\": \"red\", \"width\": 1}, \"type\": \"scattergeo\"}, {\"opacity\": 0.3938730853391685, \"locationmode\": \"USA-states\", \"lon\": [-97.0372, -80.94312583], \"mode\": \"lines\", \"lat\": [32.89595056, 35.21401111], \"line\": {\"color\": \"red\", \"width\": 1}, \"type\": \"scattergeo\"}, {\"opacity\": 0.3041575492341357, \"locationmode\": \"USA-states\", \"lon\": [-97.0372, -104.70025], \"mode\": \"lines\", \"lat\": [32.89595056, 38.80580556], \"line\": {\"color\": \"red\", \"width\": 1}, \"type\": \"scattergeo\"}, {\"opacity\": 0.1137855579868709, \"locationmode\": \"USA-states\", \"lon\": [-97.0372, -84.219375], \"mode\": \"lines\", \"lat\": [32.89595056, 39.90237583], \"line\": {\"color\": \"red\", \"width\": 1}, \"type\": \"scattergeo\"}, {\"opacity\": 0.6433260393873085, \"locationmode\": \"USA-states\", \"lon\": [-97.0372, -77.03772222], \"mode\": \"lines\", \"lat\": [32.89595056, 38.85208333], \"line\": {\"color\": \"red\", \"width\": 1}, \"type\": \"scattergeo\"}, {\"opacity\": 0.12253829321663019, \"locationmode\": \"USA-states\", \"lon\": [-80.29055556, -104.6670019], \"mode\": \"lines\", \"lat\": [25.79325, 39.85840806], \"line\": {\"color\": \"red\", \"width\": 1}, \"type\": \"scattergeo\"}, {\"opacity\": 0.12253829321663019, \"locationmode\": \"USA-states\", \"lon\": [-87.90446417, -104.6670019], \"mode\": \"lines\", \"lat\": [41.979595, 39.85840806], \"line\": {\"color\": \"red\", \"width\": 1}, \"type\": \"scattergeo\"}, {\"opacity\": 0.6345733041575492, \"locationmode\": \"USA-states\", \"lon\": [-84.42694444, -97.0372], \"mode\": \"lines\", \"lat\": [33.64044444, 32.89595056], \"line\": {\"color\": \"red\", \"width\": 1}, \"type\": \"scattergeo\"}, {\"opacity\": 0.8971553610503282, \"locationmode\": \"USA-states\", \"lon\": [-97.66987194, -97.0372], \"mode\": \"lines\", \"lat\": [30.19453278, 32.89595056], \"line\": {\"color\": \"red\", \"width\": 1}, \"type\": \"scattergeo\"}, {\"opacity\": 0.47702407002188185, \"locationmode\": \"USA-states\", \"lon\": [-86.67818222, -97.0372], \"mode\": \"lines\", \"lat\": [36.12447667, 32.89595056], \"line\": {\"color\": \"red\", \"width\": 1}, \"type\": \"scattergeo\"}, {\"opacity\": 0.2275711159737418, \"locationmode\": \"USA-states\", \"lon\": [-118.3584969, -97.0372], \"mode\": \"lines\", \"lat\": [34.20061917, 32.89595056], \"line\": {\"color\": \"red\", \"width\": 1}, \"type\": \"scattergeo\"}, {\"opacity\": 0.35667396061269147, \"locationmode\": \"USA-states\", \"lon\": [-76.66819833, -97.0372], \"mode\": \"lines\", \"lat\": [39.17540167, 32.89595056], \"line\": {\"color\": \"red\", \"width\": 1}, \"type\": \"scattergeo\"}, {\"opacity\": 0.1137855579868709, \"locationmode\": \"USA-states\", \"lon\": [-82.89188278, -97.0372], \"mode\": \"lines\", \"lat\": [39.99798528, 32.89595056], \"line\": {\"color\": \"red\", \"width\": 1}, \"type\": \"scattergeo\"}, {\"opacity\": 0.6105032822757112, \"locationmode\": \"USA-states\", \"lon\": [-104.6670019, -97.0372], \"mode\": \"lines\", \"lat\": [39.85840806, 32.89595056], \"line\": {\"color\": \"red\", \"width\": 1}, \"type\": \"scattergeo\"}, {\"opacity\": 0.2844638949671772, \"locationmode\": \"USA-states\", \"lon\": [-83.34883583, -97.0372], \"mode\": \"lines\", \"lat\": [42.21205889, 32.89595056], \"line\": {\"color\": \"red\", \"width\": 1}, \"type\": \"scattergeo\"}, {\"opacity\": 0.1487964989059081, \"locationmode\": \"USA-states\", \"lon\": [-106.91769529999999, -97.0372], \"mode\": \"lines\", \"lat\": [39.64256778, 32.89595056], \"line\": {\"color\": \"red\", \"width\": 1}, \"type\": \"scattergeo\"}, {\"opacity\": 0.33916849015317285, \"locationmode\": \"USA-states\", \"lon\": [-74.16866056, -97.0372], \"mode\": \"lines\", \"lat\": [40.69249722, 32.89595056], \"line\": {\"color\": \"red\", \"width\": 1}, \"type\": \"scattergeo\"}, {\"opacity\": 0.12253829321663019, \"locationmode\": \"USA-states\", \"lon\": [-119.7181389, -97.0372], \"mode\": \"lines\", \"lat\": [36.77619444, 32.89595056], \"line\": {\"color\": \"red\", \"width\": 1}, \"type\": \"scattergeo\"}, {\"opacity\": 0.3676148796498906, \"locationmode\": \"USA-states\", \"lon\": [-80.15275, -97.0372], \"mode\": \"lines\", \"lat\": [26.07258333, 32.89595056], \"line\": {\"color\": \"red\", \"width\": 1}, \"type\": \"scattergeo\"}, {\"opacity\": 0.17286652078774617, \"locationmode\": \"USA-states\", \"lon\": [-86.77310944, -97.0372], \"mode\": \"lines\", \"lat\": [34.6404475, 32.89595056], \"line\": {\"color\": \"red\", \"width\": 1}, \"type\": \"scattergeo\"}, {\"opacity\": 0.3544857768052516, \"locationmode\": \"USA-states\", \"lon\": [-95.33972222, -97.0372], \"mode\": \"lines\", \"lat\": [29.98047222, 32.89595056], \"line\": {\"color\": \"red\", \"width\": 1}, \"type\": \"scattergeo\"}, {\"opacity\": 1.0, \"locationmode\": \"USA-states\", \"lon\": [-118.40807439999999, -97.0372], \"mode\": \"lines\", \"lat\": [33.94253611, 32.89595056], \"line\": {\"color\": \"red\", \"width\": 1}, \"type\": \"scattergeo\"}, {\"opacity\": 0.47702407002188185, \"locationmode\": \"USA-states\", \"lon\": [-94.71390556, -97.0372], \"mode\": \"lines\", \"lat\": [39.29760528, 32.89595056], \"line\": {\"color\": \"red\", \"width\": 1}, \"type\": \"scattergeo\"}, {\"opacity\": 0.5470459518599562, \"locationmode\": \"USA-states\", \"lon\": [-81.31602778, -97.0372], \"mode\": \"lines\", \"lat\": [28.42888889, 32.89595056], \"line\": {\"color\": \"red\", \"width\": 1}, \"type\": \"scattergeo\"}, {\"opacity\": 0.23413566739606126, \"locationmode\": \"USA-states\", \"lon\": [-89.97666667, -97.0372], \"mode\": \"lines\", \"lat\": [35.04241667, 32.89595056], \"line\": {\"color\": \"red\", \"width\": 1}, \"type\": \"scattergeo\"}, {\"opacity\": 0.23413566739606126, \"locationmode\": \"USA-states\", \"lon\": [-98.23861111, -97.0372], \"mode\": \"lines\", \"lat\": [26.17583333, 32.89595056], \"line\": {\"color\": \"red\", \"width\": 1}, \"type\": \"scattergeo\"}, {\"opacity\": 0.612691466083151, \"locationmode\": \"USA-states\", \"lon\": [-80.29055556, -97.0372], \"mode\": \"lines\", \"lat\": [25.79325, 32.89595056], \"line\": {\"color\": \"red\", \"width\": 1}, \"type\": \"scattergeo\"}, {\"opacity\": 0.35667396061269147, \"locationmode\": \"USA-states\", \"lon\": [-93.2169225, -97.0372], \"mode\": \"lines\", \"lat\": [44.88054694, 32.89595056], \"line\": {\"color\": \"red\", \"width\": 1}, \"type\": \"scattergeo\"}, {\"opacity\": 0.0175054704595186, \"locationmode\": \"USA-states\", \"lon\": [-107.89383329999998, -97.0372], \"mode\": \"lines\", \"lat\": [38.50886722, 32.89595056], \"line\": {\"color\": \"red\", \"width\": 1}, \"type\": \"scattergeo\"}, {\"opacity\": 0.061269146608315096, \"locationmode\": \"USA-states\", \"lon\": [-156.43045780000003, -97.0372], \"mode\": \"lines\", \"lat\": [20.89864972, 32.89595056], \"line\": {\"color\": \"red\", \"width\": 1}, \"type\": \"scattergeo\"}, {\"opacity\": 0.42669584245076586, \"locationmode\": \"USA-states\", \"lon\": [-97.60073389, -97.0372], \"mode\": \"lines\", \"lat\": [35.39308833, 32.89595056], \"line\": {\"color\": \"red\", \"width\": 1}, \"type\": \"scattergeo\"}, {\"opacity\": 0.2975929978118162, \"locationmode\": \"USA-states\", \"lon\": [-95.89417306, -97.0372], \"mode\": \"lines\", \"lat\": [41.30251861, 32.89595056], \"line\": {\"color\": \"red\", \"width\": 1}, \"type\": \"scattergeo\"}, {\"opacity\": 0.9026258205689278, \"locationmode\": \"USA-states\", \"lon\": [-87.90446417, -97.0372], \"mode\": \"lines\", \"lat\": [41.979595, 32.89595056], \"line\": {\"color\": \"red\", \"width\": 1}, \"type\": \"scattergeo\"}, {\"opacity\": 0.3522975929978118, \"locationmode\": \"USA-states\", \"lon\": [-75.24114083, -97.0372], \"mode\": \"lines\", \"lat\": [39.87195278, 32.89595056], \"line\": {\"color\": \"red\", \"width\": 1}, \"type\": \"scattergeo\"}, {\"opacity\": 0.6017505470459519, \"locationmode\": \"USA-states\", \"lon\": [-112.00805559999999, -97.0372], \"mode\": \"lines\", \"lat\": [33.43416667, 32.89595056], \"line\": {\"color\": \"red\", \"width\": 1}, \"type\": \"scattergeo\"}, {\"opacity\": 0.18161925601750548, \"locationmode\": \"USA-states\", \"lon\": [-77.31966667, -97.0372], \"mode\": \"lines\", \"lat\": [37.50516667, 32.89595056], \"line\": {\"color\": \"red\", \"width\": 1}, \"type\": \"scattergeo\"}, {\"opacity\": 0.16411378555798686, \"locationmode\": \"USA-states\", \"lon\": [-119.76806470000001, -97.0372], \"mode\": \"lines\", \"lat\": [39.49857611, 32.89595056], \"line\": {\"color\": \"red\", \"width\": 1}, \"type\": \"scattergeo\"}, {\"opacity\": 0.5470459518599562, \"locationmode\": \"USA-states\", \"lon\": [-117.1896567, -97.0372], \"mode\": \"lines\", \"lat\": [32.73355611, 32.89595056], \"line\": {\"color\": \"red\", \"width\": 1}, \"type\": \"scattergeo\"}, {\"opacity\": 0.9037199124726477, \"locationmode\": \"USA-states\", \"lon\": [-98.46977778, -97.0372], \"mode\": \"lines\", \"lat\": [29.53369444, 32.89595056], \"line\": {\"color\": \"red\", \"width\": 1}, \"type\": \"scattergeo\"}, {\"opacity\": 0.17943107221006566, \"locationmode\": \"USA-states\", \"lon\": [-85.736, -97.0372], \"mode\": \"lines\", \"lat\": [38.17438889, 32.89595056], \"line\": {\"color\": \"red\", \"width\": 1}, \"type\": \"scattergeo\"}, {\"opacity\": 0.5754923413566739, \"locationmode\": \"USA-states\", \"lon\": [-122.3748433, -97.0372], \"mode\": \"lines\", \"lat\": [37.61900194, 32.89595056], \"line\": {\"color\": \"red\", \"width\": 1}, \"type\": \"scattergeo\"}, {\"opacity\": 0.3479212253829322, \"locationmode\": \"USA-states\", \"lon\": [-121.92900890000001, -97.0372], \"mode\": \"lines\", \"lat\": [37.36186194, 32.89595056], \"line\": {\"color\": \"red\", \"width\": 1}, \"type\": \"scattergeo\"}, {\"opacity\": 0.3063457330415755, \"locationmode\": \"USA-states\", \"lon\": [-111.9777731, -97.0372], \"mode\": \"lines\", \"lat\": [40.78838778, 32.89595056], \"line\": {\"color\": \"red\", \"width\": 1}, \"type\": \"scattergeo\"}, {\"opacity\": 0.5317286652078774, \"locationmode\": \"USA-states\", \"lon\": [-90.35998972, -97.0372], \"mode\": \"lines\", \"lat\": [38.74768694, 32.89595056], \"line\": {\"color\": \"red\", \"width\": 1}, \"type\": \"scattergeo\"}, {\"opacity\": 0.05470459518599562, \"locationmode\": \"USA-states\", \"lon\": [-94.30681111, -97.0372], \"mode\": \"lines\", \"lat\": [36.28186944, 32.89595056], \"line\": {\"color\": \"red\", \"width\": 1}, \"type\": \"scattergeo\"}, {\"opacity\": 0.12253829321663019, \"locationmode\": \"USA-states\", \"lon\": [-80.29055556, -83.34883583], \"mode\": \"lines\", \"lat\": [25.79325, 42.21205889], \"line\": {\"color\": \"red\", \"width\": 1}, \"type\": \"scattergeo\"}, {\"opacity\": 0.0087527352297593, \"locationmode\": \"USA-states\", \"lon\": [-73.87260917, -106.91769529999999], \"mode\": \"lines\", \"lat\": [40.77724306, 39.64256778], \"line\": {\"color\": \"red\", \"width\": 1}, \"type\": \"scattergeo\"}, {\"opacity\": 0.0700218818380744, \"locationmode\": \"USA-states\", \"lon\": [-87.90446417, -106.91769529999999], \"mode\": \"lines\", \"lat\": [41.979595, 39.64256778], \"line\": {\"color\": \"red\", \"width\": 1}, \"type\": \"scattergeo\"}, {\"opacity\": 0.474835886214442, \"locationmode\": \"USA-states\", \"lon\": [-97.0372, -106.37780559999999], \"mode\": \"lines\", \"lat\": [32.89595056, 31.80666667], \"line\": {\"color\": \"red\", \"width\": 1}, \"type\": \"scattergeo\"}, {\"opacity\": 0.05908096280087528, \"locationmode\": \"USA-states\", \"lon\": [-118.40807439999999, -74.16866056], \"mode\": \"lines\", \"lat\": [33.94253611, 40.69249722], \"line\": {\"color\": \"red\", \"width\": 1}, \"type\": \"scattergeo\"}, {\"opacity\": 0.1838074398249453, \"locationmode\": \"USA-states\", \"lon\": [-80.29055556, -74.16866056], \"mode\": \"lines\", \"lat\": [25.79325, 40.69249722], \"line\": {\"color\": \"red\", \"width\": 1}, \"type\": \"scattergeo\"}, {\"opacity\": 0.12253829321663019, \"locationmode\": \"USA-states\", \"lon\": [-73.77892556, -80.15275], \"mode\": \"lines\", \"lat\": [40.63975111, 26.07258333], \"line\": {\"color\": \"red\", \"width\": 1}, \"type\": \"scattergeo\"}, {\"opacity\": 0.0700218818380744, \"locationmode\": \"USA-states\", \"lon\": [-97.0372, -107.21765970000001], \"mode\": \"lines\", \"lat\": [32.89595056, 40.48118028], \"line\": {\"color\": \"red\", \"width\": 1}, \"type\": \"scattergeo\"}, {\"opacity\": 0.12253829321663019, \"locationmode\": \"USA-states\", \"lon\": [-97.0372, -157.92240719999998], \"mode\": \"lines\", \"lat\": [32.89595056, 21.31869111], \"line\": {\"color\": \"red\", \"width\": 1}, \"type\": \"scattergeo\"}, {\"opacity\": 0.2363238512035011, \"locationmode\": \"USA-states\", \"lon\": [-118.40807439999999, -157.92240719999998], \"mode\": \"lines\", \"lat\": [33.94253611, 21.31869111], \"line\": {\"color\": \"red\", \"width\": 1}, \"type\": \"scattergeo\"}, {\"opacity\": 0.33698030634573306, \"locationmode\": \"USA-states\", \"lon\": [-97.0372, -77.45580972], \"mode\": \"lines\", \"lat\": [32.89595056, 38.94453194], \"line\": {\"color\": \"red\", \"width\": 1}, \"type\": \"scattergeo\"}, {\"opacity\": 0.18161925601750548, \"locationmode\": \"USA-states\", \"lon\": [-118.40807439999999, -77.45580972], \"mode\": \"lines\", \"lat\": [33.94253611, 38.94453194], \"line\": {\"color\": \"red\", \"width\": 1}, \"type\": \"scattergeo\"}, {\"opacity\": 0.12253829321663019, \"locationmode\": \"USA-states\", \"lon\": [-80.29055556, -77.45580972], \"mode\": \"lines\", \"lat\": [25.79325, 38.94453194], \"line\": {\"color\": \"red\", \"width\": 1}, \"type\": \"scattergeo\"}, {\"opacity\": 0.1838074398249453, \"locationmode\": \"USA-states\", \"lon\": [-80.29055556, -95.33972222], \"mode\": \"lines\", \"lat\": [25.79325, 29.98047222], \"line\": {\"color\": \"red\", \"width\": 1}, \"type\": \"scattergeo\"}, {\"opacity\": 0.23413566739606126, \"locationmode\": \"USA-states\", \"lon\": [-97.0372, -97.43304583], \"mode\": \"lines\", \"lat\": [32.89595056, 37.64995889], \"line\": {\"color\": \"red\", \"width\": 1}, \"type\": \"scattergeo\"}, {\"opacity\": 0.3041575492341357, \"locationmode\": \"USA-states\", \"lon\": [-97.0372, -86.29438417], \"mode\": \"lines\", \"lat\": [32.89595056, 39.71732917], \"line\": {\"color\": \"red\", \"width\": 1}, \"type\": \"scattergeo\"}, {\"opacity\": 0.0262582056892779, \"locationmode\": \"USA-states\", \"lon\": [-97.0372, -110.7377389], \"mode\": \"lines\", \"lat\": [32.89595056, 43.60732417], \"line\": {\"color\": \"red\", \"width\": 1}, \"type\": \"scattergeo\"}, {\"opacity\": 0.2363238512035011, \"locationmode\": \"USA-states\", \"lon\": [-97.0372, -81.68786111], \"mode\": \"lines\", \"lat\": [32.89595056, 30.49405556], \"line\": {\"color\": \"red\", \"width\": 1}, \"type\": \"scattergeo\"}, {\"opacity\": 0.061269146608315096, \"locationmode\": \"USA-states\", \"lon\": [-97.66987194, -73.77892556], \"mode\": \"lines\", \"lat\": [30.19453278, 40.63975111], \"line\": {\"color\": \"red\", \"width\": 1}, \"type\": \"scattergeo\"}, {\"opacity\": 0.061269146608315096, \"locationmode\": \"USA-states\", \"lon\": [-97.0372, -73.77892556], \"mode\": \"lines\", \"lat\": [32.89595056, 40.63975111], \"line\": {\"color\": \"red\", \"width\": 1}, \"type\": \"scattergeo\"}, {\"opacity\": 0.061269146608315096, \"locationmode\": \"USA-states\", \"lon\": [-106.91769529999999, -73.77892556], \"mode\": \"lines\", \"lat\": [39.64256778, 40.63975111], \"line\": {\"color\": \"red\", \"width\": 1}, \"type\": \"scattergeo\"}, {\"opacity\": 0.24507658643326038, \"locationmode\": \"USA-states\", \"lon\": [-81.31602778, -73.77892556], \"mode\": \"lines\", \"lat\": [28.42888889, 40.63975111], \"line\": {\"color\": \"red\", \"width\": 1}, \"type\": \"scattergeo\"}, {\"opacity\": 0.4288840262582057, \"locationmode\": \"USA-states\", \"lon\": [-80.29055556, -73.77892556], \"mode\": \"lines\", \"lat\": [25.79325, 40.63975111], \"line\": {\"color\": \"red\", \"width\": 1}, \"type\": \"scattergeo\"}, {\"opacity\": 0.061269146608315096, \"locationmode\": \"USA-states\", \"lon\": [-122.30931310000001, -73.77892556], \"mode\": \"lines\", \"lat\": [47.44898194, 40.63975111], \"line\": {\"color\": \"red\", \"width\": 1}, \"type\": \"scattergeo\"}, {\"opacity\": 0.3041575492341357, \"locationmode\": \"USA-states\", \"lon\": [-122.3748433, -73.77892556], \"mode\": \"lines\", \"lat\": [37.61900194, 40.63975111], \"line\": {\"color\": \"red\", \"width\": 1}, \"type\": \"scattergeo\"}, {\"opacity\": 0.061269146608315096, \"locationmode\": \"USA-states\", \"lon\": [-64.97336111, -73.77892556], \"mode\": \"lines\", \"lat\": [18.33730556, 40.63975111], \"line\": {\"color\": \"red\", \"width\": 1}, \"type\": \"scattergeo\"}, {\"opacity\": 0.061269146608315096, \"locationmode\": \"USA-states\", \"lon\": [-82.53325, -73.77892556], \"mode\": \"lines\", \"lat\": [27.97547222, 40.63975111], \"line\": {\"color\": \"red\", \"width\": 1}, \"type\": \"scattergeo\"}, {\"opacity\": 0.6225382932166302, \"locationmode\": \"USA-states\", \"lon\": [-97.0372, -115.15233329999998], \"mode\": \"lines\", \"lat\": [32.89595056, 36.08036111], \"line\": {\"color\": \"red\", \"width\": 1}, \"type\": \"scattergeo\"}, {\"opacity\": 0.12253829321663019, \"locationmode\": \"USA-states\", \"lon\": [-73.77892556, -115.15233329999998], \"mode\": \"lines\", \"lat\": [40.63975111, 36.08036111], \"line\": {\"color\": \"red\", \"width\": 1}, \"type\": \"scattergeo\"}, {\"opacity\": 0.24288840262582057, \"locationmode\": \"USA-states\", \"lon\": [-118.40807439999999, -115.15233329999998], \"mode\": \"lines\", \"lat\": [33.94253611, 36.08036111], \"line\": {\"color\": \"red\", \"width\": 1}, \"type\": \"scattergeo\"}, {\"opacity\": 0.3063457330415755, \"locationmode\": \"USA-states\", \"lon\": [-87.90446417, -115.15233329999998], \"mode\": \"lines\", \"lat\": [41.979595, 36.08036111], \"line\": {\"color\": \"red\", \"width\": 1}, \"type\": \"scattergeo\"}, {\"opacity\": 0.1772428884026258, \"locationmode\": \"USA-states\", \"lon\": [-97.66987194, -118.40807439999999], \"mode\": \"lines\", \"lat\": [30.19453278, 33.94253611], \"line\": {\"color\": \"red\", \"width\": 1}, \"type\": \"scattergeo\"}, {\"opacity\": 0.061269146608315096, \"locationmode\": \"USA-states\", \"lon\": [-86.67818222, -118.40807439999999], \"mode\": \"lines\", \"lat\": [36.12447667, 33.94253611], \"line\": {\"color\": \"red\", \"width\": 1}, \"type\": \"scattergeo\"}, {\"opacity\": 0.1838074398249453, \"locationmode\": \"USA-states\", \"lon\": [-71.00517917, -118.40807439999999], \"mode\": \"lines\", \"lat\": [42.3643475, 33.94253611], \"line\": {\"color\": \"red\", \"width\": 1}, \"type\": \"scattergeo\"}, {\"opacity\": 0.061269146608315096, \"locationmode\": \"USA-states\", \"lon\": [-106.91769529999999, -118.40807439999999], \"mode\": \"lines\", \"lat\": [39.64256778, 33.94253611], \"line\": {\"color\": \"red\", \"width\": 1}, \"type\": \"scattergeo\"}, {\"opacity\": 0.5995623632385121, \"locationmode\": \"USA-states\", \"lon\": [-73.77892556, -118.40807439999999], \"mode\": \"lines\", \"lat\": [40.63975111, 33.94253611], \"line\": {\"color\": \"red\", \"width\": 1}, \"type\": \"scattergeo\"}, {\"opacity\": 0.061269146608315096, \"locationmode\": \"USA-states\", \"lon\": [-156.0456314, -118.40807439999999], \"mode\": \"lines\", \"lat\": [19.73876583, 33.94253611], \"line\": {\"color\": \"red\", \"width\": 1}, \"type\": \"scattergeo\"}, {\"opacity\": 0.12253829321663019, \"locationmode\": \"USA-states\", \"lon\": [-156.43045780000003, -118.40807439999999], \"mode\": \"lines\", \"lat\": [20.89864972, 33.94253611], \"line\": {\"color\": \"red\", \"width\": 1}, \"type\": \"scattergeo\"}, {\"opacity\": 0.5426695842450766, \"locationmode\": \"USA-states\", \"lon\": [-87.90446417, -118.40807439999999], \"mode\": \"lines\", \"lat\": [41.979595, 33.94253611], \"line\": {\"color\": \"red\", \"width\": 1}, \"type\": \"scattergeo\"}, {\"opacity\": 0.18161925601750548, \"locationmode\": \"USA-states\", \"lon\": [-90.35998972, -118.40807439999999], \"mode\": \"lines\", \"lat\": [38.74768694, 33.94253611], \"line\": {\"color\": \"red\", \"width\": 1}, \"type\": \"scattergeo\"}, {\"opacity\": 0.11159737417943107, \"locationmode\": \"USA-states\", \"lon\": [-86.67818222, -73.87260917], \"mode\": \"lines\", \"lat\": [36.12447667, 40.77724306], \"line\": {\"color\": \"red\", \"width\": 1}, \"type\": \"scattergeo\"}, {\"opacity\": 0.849015317286652, \"locationmode\": \"USA-states\", \"lon\": [-97.0372, -73.87260917], \"mode\": \"lines\", \"lat\": [32.89595056, 40.77724306], \"line\": {\"color\": \"red\", \"width\": 1}, \"type\": \"scattergeo\"}, {\"opacity\": 0.22538293216630198, \"locationmode\": \"USA-states\", \"lon\": [-90.35998972, -73.87260917], \"mode\": \"lines\", \"lat\": [38.74768694, 40.77724306], \"line\": {\"color\": \"red\", \"width\": 1}, \"type\": \"scattergeo\"}, {\"opacity\": 0.061269146608315096, \"locationmode\": \"USA-states\", \"lon\": [-118.40807439999999, -159.3389581], \"mode\": \"lines\", \"lat\": [33.94253611, 21.97598306], \"line\": {\"color\": \"red\", \"width\": 1}, \"type\": \"scattergeo\"}, {\"opacity\": 0.061269146608315096, \"locationmode\": \"USA-states\", \"lon\": [-118.40807439999999, -81.31602778], \"mode\": \"lines\", \"lat\": [33.94253611, 28.42888889], \"line\": {\"color\": \"red\", \"width\": 1}, \"type\": \"scattergeo\"}, {\"opacity\": 0.49015317286652077, \"locationmode\": \"USA-states\", \"lon\": [-80.29055556, -81.31602778], \"mode\": \"lines\", \"lat\": [25.79325, 28.42888889], \"line\": {\"color\": \"red\", \"width\": 1}, \"type\": \"scattergeo\"}, {\"opacity\": 0.24507658643326038, \"locationmode\": \"USA-states\", \"lon\": [-84.42694444, -80.29055556], \"mode\": \"lines\", \"lat\": [33.64044444, 25.79325], \"line\": {\"color\": \"red\", \"width\": 1}, \"type\": \"scattergeo\"}, {\"opacity\": 0.12253829321663019, \"locationmode\": \"USA-states\", \"lon\": [-72.68322833, -80.29055556], \"mode\": \"lines\", \"lat\": [41.93887417, 25.79325], \"line\": {\"color\": \"red\", \"width\": 1}, \"type\": \"scattergeo\"}, {\"opacity\": 0.5514223194748359, \"locationmode\": \"USA-states\", \"lon\": [-77.03772222, -80.29055556], \"mode\": \"lines\", \"lat\": [38.85208333, 25.79325], \"line\": {\"color\": \"red\", \"width\": 1}, \"type\": \"scattergeo\"}, {\"opacity\": 0.0525164113785558, \"locationmode\": \"USA-states\", \"lon\": [-106.91769529999999, -80.29055556], \"mode\": \"lines\", \"lat\": [39.64256778, 25.79325], \"line\": {\"color\": \"red\", \"width\": 1}, \"type\": \"scattergeo\"}, {\"opacity\": 0.1838074398249453, \"locationmode\": \"USA-states\", \"lon\": [-115.15233329999998, -80.29055556], \"mode\": \"lines\", \"lat\": [36.08036111, 25.79325], \"line\": {\"color\": \"red\", \"width\": 1}, \"type\": \"scattergeo\"}, {\"opacity\": 0.4288840262582057, \"locationmode\": \"USA-states\", \"lon\": [-118.40807439999999, -80.29055556], \"mode\": \"lines\", \"lat\": [33.94253611, 25.79325], \"line\": {\"color\": \"red\", \"width\": 1}, \"type\": \"scattergeo\"}, {\"opacity\": 0.6728665207877462, \"locationmode\": \"USA-states\", \"lon\": [-73.87260917, -80.29055556], \"mode\": \"lines\", \"lat\": [40.77724306, 25.79325], \"line\": {\"color\": \"red\", \"width\": 1}, \"type\": \"scattergeo\"}, {\"opacity\": 0.061269146608315096, \"locationmode\": \"USA-states\", \"lon\": [-93.2169225, -80.29055556], \"mode\": \"lines\", \"lat\": [44.88054694, 25.79325], \"line\": {\"color\": \"red\", \"width\": 1}, \"type\": \"scattergeo\"}, {\"opacity\": 0.5525164113785558, \"locationmode\": \"USA-states\", \"lon\": [-87.90446417, -80.29055556], \"mode\": \"lines\", \"lat\": [41.979595, 25.79325], \"line\": {\"color\": \"red\", \"width\": 1}, \"type\": \"scattergeo\"}, {\"opacity\": 0.1838074398249453, \"locationmode\": \"USA-states\", \"lon\": [-75.24114083, -80.29055556], \"mode\": \"lines\", \"lat\": [39.87195278, 25.79325], \"line\": {\"color\": \"red\", \"width\": 1}, \"type\": \"scattergeo\"}, {\"opacity\": 0.061269146608315096, \"locationmode\": \"USA-states\", \"lon\": [-112.00805559999999, -80.29055556], \"mode\": \"lines\", \"lat\": [33.43416667, 25.79325], \"line\": {\"color\": \"red\", \"width\": 1}, \"type\": \"scattergeo\"}, {\"opacity\": 0.1838074398249453, \"locationmode\": \"USA-states\", \"lon\": [-122.3748433, -80.29055556], \"mode\": \"lines\", \"lat\": [37.61900194, 25.79325], \"line\": {\"color\": \"red\", \"width\": 1}, \"type\": \"scattergeo\"}, {\"opacity\": 0.49015317286652077, \"locationmode\": \"USA-states\", \"lon\": [-66.00183333, -80.29055556], \"mode\": \"lines\", \"lat\": [18.43941667, 25.79325], \"line\": {\"color\": \"red\", \"width\": 1}, \"type\": \"scattergeo\"}, {\"opacity\": 0.00437636761487965, \"locationmode\": \"USA-states\", \"lon\": [-95.88824167, -80.29055556], \"mode\": \"lines\", \"lat\": [36.19837222, 25.79325], \"line\": {\"color\": \"red\", \"width\": 1}, \"type\": \"scattergeo\"}, {\"opacity\": 0.175054704595186, \"locationmode\": \"USA-states\", \"lon\": [-87.90446417, -93.2169225], \"mode\": \"lines\", \"lat\": [41.979595, 44.88054694], \"line\": {\"color\": \"red\", \"width\": 1}, \"type\": \"scattergeo\"}, {\"opacity\": 0.3676148796498906, \"locationmode\": \"USA-states\", \"lon\": [-97.0372, -90.25802778], \"mode\": \"lines\", \"lat\": [32.89595056, 29.99338889], \"line\": {\"color\": \"red\", \"width\": 1}, \"type\": \"scattergeo\"}, {\"opacity\": 0.1838074398249453, \"locationmode\": \"USA-states\", \"lon\": [-80.29055556, -90.25802778], \"mode\": \"lines\", \"lat\": [25.79325, 29.99338889], \"line\": {\"color\": \"red\", \"width\": 1}, \"type\": \"scattergeo\"}, {\"opacity\": 0.16301969365426697, \"locationmode\": \"USA-states\", \"lon\": [-87.90446417, -90.25802778], \"mode\": \"lines\", \"lat\": [41.979595, 29.99338889], \"line\": {\"color\": \"red\", \"width\": 1}, \"type\": \"scattergeo\"}, {\"opacity\": 0.24288840262582057, \"locationmode\": \"USA-states\", \"lon\": [-97.0372, -117.60119440000001], \"mode\": \"lines\", \"lat\": [32.89595056, 34.056], \"line\": {\"color\": \"red\", \"width\": 1}, \"type\": \"scattergeo\"}, {\"opacity\": 0.3544857768052516, \"locationmode\": \"USA-states\", \"lon\": [-77.03772222, -87.90446417], \"mode\": \"lines\", \"lat\": [38.85208333, 41.979595], \"line\": {\"color\": \"red\", \"width\": 1}, \"type\": \"scattergeo\"}, {\"opacity\": 0.1838074398249453, \"locationmode\": \"USA-states\", \"lon\": [-74.16866056, -87.90446417], \"mode\": \"lines\", \"lat\": [40.69249722, 41.979595], \"line\": {\"color\": \"red\", \"width\": 1}, \"type\": \"scattergeo\"}, {\"opacity\": 0.1838074398249453, \"locationmode\": \"USA-states\", \"lon\": [-80.15275, -87.90446417], \"mode\": \"lines\", \"lat\": [26.07258333, 41.979595], \"line\": {\"color\": \"red\", \"width\": 1}, \"type\": \"scattergeo\"}, {\"opacity\": 0.0525164113785558, \"locationmode\": \"USA-states\", \"lon\": [-107.21765970000001, -87.90446417], \"mode\": \"lines\", \"lat\": [40.48118028, 41.979595], \"line\": {\"color\": \"red\", \"width\": 1}, \"type\": \"scattergeo\"}, {\"opacity\": 0.05032822757111598, \"locationmode\": \"USA-states\", \"lon\": [-157.92240719999998, -87.90446417], \"mode\": \"lines\", \"lat\": [21.31869111, 41.979595], \"line\": {\"color\": \"red\", \"width\": 1}, \"type\": \"scattergeo\"}, {\"opacity\": 0.061269146608315096, \"locationmode\": \"USA-states\", \"lon\": [-110.7377389, -87.90446417], \"mode\": \"lines\", \"lat\": [43.60732417, 41.979595], \"line\": {\"color\": \"red\", \"width\": 1}, \"type\": \"scattergeo\"}, {\"opacity\": 0.061269146608315096, \"locationmode\": \"USA-states\", \"lon\": [-73.77892556, -87.90446417], \"mode\": \"lines\", \"lat\": [40.63975111, 41.979595], \"line\": {\"color\": \"red\", \"width\": 1}, \"type\": \"scattergeo\"}, {\"opacity\": 0.9409190371991247, \"locationmode\": \"USA-states\", \"lon\": [-73.87260917, -87.90446417], \"mode\": \"lines\", \"lat\": [40.77724306, 41.979595], \"line\": {\"color\": \"red\", \"width\": 1}, \"type\": \"scattergeo\"}, {\"opacity\": 0.23413566739606126, \"locationmode\": \"USA-states\", \"lon\": [-94.71390556, -87.90446417], \"mode\": \"lines\", \"lat\": [39.29760528, 41.979595], \"line\": {\"color\": \"red\", \"width\": 1}, \"type\": \"scattergeo\"}, {\"opacity\": 0.24507658643326038, \"locationmode\": \"USA-states\", \"lon\": [-81.31602778, -87.90446417], \"mode\": \"lines\", \"lat\": [28.42888889, 41.979595], \"line\": {\"color\": \"red\", \"width\": 1}, \"type\": \"scattergeo\"}, {\"opacity\": 0.17067833698030635, \"locationmode\": \"USA-states\", \"lon\": [-78.78747222, -87.90446417], \"mode\": \"lines\", \"lat\": [35.87763889, 41.979595], \"line\": {\"color\": \"red\", \"width\": 1}, \"type\": \"scattergeo\"}, {\"opacity\": 0.061269146608315096, \"locationmode\": \"USA-states\", \"lon\": [-119.76806470000001, -87.90446417], \"mode\": \"lines\", \"lat\": [39.49857611, 41.979595], \"line\": {\"color\": \"red\", \"width\": 1}, \"type\": \"scattergeo\"}, {\"opacity\": 0.24507658643326038, \"locationmode\": \"USA-states\", \"lon\": [-117.1896567, -87.90446417], \"mode\": \"lines\", \"lat\": [32.73355611, 41.979595], \"line\": {\"color\": \"red\", \"width\": 1}, \"type\": \"scattergeo\"}, {\"opacity\": 0.12253829321663019, \"locationmode\": \"USA-states\", \"lon\": [-98.46977778, -87.90446417], \"mode\": \"lines\", \"lat\": [29.53369444, 41.979595], \"line\": {\"color\": \"red\", \"width\": 1}, \"type\": \"scattergeo\"}, {\"opacity\": 0.12253829321663019, \"locationmode\": \"USA-states\", \"lon\": [-121.92900890000001, -87.90446417], \"mode\": \"lines\", \"lat\": [37.36186194, 41.979595], \"line\": {\"color\": \"red\", \"width\": 1}, \"type\": \"scattergeo\"}, {\"opacity\": 0.12253829321663019, \"locationmode\": \"USA-states\", \"lon\": [-66.00183333, -87.90446417], \"mode\": \"lines\", \"lat\": [18.43941667, 41.979595], \"line\": {\"color\": \"red\", \"width\": 1}, \"type\": \"scattergeo\"}, {\"opacity\": 0.5284463894967177, \"locationmode\": \"USA-states\", \"lon\": [-90.35998972, -87.90446417], \"mode\": \"lines\", \"lat\": [38.74768694, 41.979595], \"line\": {\"color\": \"red\", \"width\": 1}, \"type\": \"scattergeo\"}, {\"opacity\": 0.061269146608315096, \"locationmode\": \"USA-states\", \"lon\": [-95.88824167, -87.90446417], \"mode\": \"lines\", \"lat\": [36.19837222, 41.979595], \"line\": {\"color\": \"red\", \"width\": 1}, \"type\": \"scattergeo\"}, {\"opacity\": 0.12253829321663019, \"locationmode\": \"USA-states\", \"lon\": [-110.94102779999999, -87.90446417], \"mode\": \"lines\", \"lat\": [32.11608333, 41.979595], \"line\": {\"color\": \"red\", \"width\": 1}, \"type\": \"scattergeo\"}, {\"opacity\": 0.12253829321663019, \"locationmode\": \"USA-states\", \"lon\": [-97.0372, -76.20122222], \"mode\": \"lines\", \"lat\": [32.89595056, 36.89461111], \"line\": {\"color\": \"red\", \"width\": 1}, \"type\": \"scattergeo\"}, {\"opacity\": 0.12253829321663019, \"locationmode\": \"USA-states\", \"lon\": [-97.0372, -80.09559417], \"mode\": \"lines\", \"lat\": [32.89595056, 26.68316194], \"line\": {\"color\": \"red\", \"width\": 1}, \"type\": \"scattergeo\"}, {\"opacity\": 0.16411378555798686, \"locationmode\": \"USA-states\", \"lon\": [-87.90446417, -80.09559417], \"mode\": \"lines\", \"lat\": [41.979595, 26.68316194], \"line\": {\"color\": \"red\", \"width\": 1}, \"type\": \"scattergeo\"}, {\"opacity\": 0.24507658643326038, \"locationmode\": \"USA-states\", \"lon\": [-97.0372, -122.5975], \"mode\": \"lines\", \"lat\": [32.89595056, 45.58872222], \"line\": {\"color\": \"red\", \"width\": 1}, \"type\": \"scattergeo\"}, {\"opacity\": 0.12035010940919037, \"locationmode\": \"USA-states\", \"lon\": [-87.90446417, -75.24114083], \"mode\": \"lines\", \"lat\": [41.979595, 39.87195278], \"line\": {\"color\": \"red\", \"width\": 1}, \"type\": \"scattergeo\"}, {\"opacity\": 0.061269146608315096, \"locationmode\": \"USA-states\", \"lon\": [-66.00183333, -75.24114083], \"mode\": \"lines\", \"lat\": [18.43941667, 39.87195278], \"line\": {\"color\": \"red\", \"width\": 1}, \"type\": \"scattergeo\"}, {\"opacity\": 0.3063457330415755, \"locationmode\": \"USA-states\", \"lon\": [-87.90446417, -112.00805559999999], \"mode\": \"lines\", \"lat\": [41.979595, 33.43416667], \"line\": {\"color\": \"red\", \"width\": 1}, \"type\": \"scattergeo\"}, {\"opacity\": 0.18599562363238512, \"locationmode\": \"USA-states\", \"lon\": [-97.0372, -80.23287083], \"mode\": \"lines\", \"lat\": [32.89595056, 40.49146583], \"line\": {\"color\": \"red\", \"width\": 1}, \"type\": \"scattergeo\"}, {\"opacity\": 0.1838074398249453, \"locationmode\": \"USA-states\", \"lon\": [-97.0372, -116.5062531], \"mode\": \"lines\", \"lat\": [32.89595056, 33.82921556], \"line\": {\"color\": \"red\", \"width\": 1}, \"type\": \"scattergeo\"}, {\"opacity\": 0.0700218818380744, \"locationmode\": \"USA-states\", \"lon\": [-87.90446417, -116.5062531], \"mode\": \"lines\", \"lat\": [41.979595, 33.82921556], \"line\": {\"color\": \"red\", \"width\": 1}, \"type\": \"scattergeo\"}, {\"opacity\": 0.3041575492341357, \"locationmode\": \"USA-states\", \"lon\": [-97.0372, -78.78747222], \"mode\": \"lines\", \"lat\": [32.89595056, 35.87763889], \"line\": {\"color\": \"red\", \"width\": 1}, \"type\": \"scattergeo\"}, {\"opacity\": 0.1838074398249453, \"locationmode\": \"USA-states\", \"lon\": [-80.29055556, -78.78747222], \"mode\": \"lines\", \"lat\": [25.79325, 35.87763889], \"line\": {\"color\": \"red\", \"width\": 1}, \"type\": \"scattergeo\"}, {\"opacity\": 0.1838074398249453, \"locationmode\": \"USA-states\", \"lon\": [-97.0372, -81.75516667], \"mode\": \"lines\", \"lat\": [32.89595056, 26.53616667], \"line\": {\"color\": \"red\", \"width\": 1}, \"type\": \"scattergeo\"}, {\"opacity\": 0.1838074398249453, \"locationmode\": \"USA-states\", \"lon\": [-87.90446417, -81.75516667], \"mode\": \"lines\", \"lat\": [41.979595, 26.53616667], \"line\": {\"color\": \"red\", \"width\": 1}, \"type\": \"scattergeo\"}, {\"opacity\": 0.061269146608315096, \"locationmode\": \"USA-states\", \"lon\": [-73.77892556, -117.1896567], \"mode\": \"lines\", \"lat\": [40.63975111, 32.73355611], \"line\": {\"color\": \"red\", \"width\": 1}, \"type\": \"scattergeo\"}, {\"opacity\": 0.4288840262582057, \"locationmode\": \"USA-states\", \"lon\": [-97.0372, -122.30931310000001], \"mode\": \"lines\", \"lat\": [32.89595056, 47.44898194], \"line\": {\"color\": \"red\", \"width\": 1}, \"type\": \"scattergeo\"}, {\"opacity\": 0.23413566739606126, \"locationmode\": \"USA-states\", \"lon\": [-87.90446417, -122.30931310000001], \"mode\": \"lines\", \"lat\": [41.979595, 47.44898194], \"line\": {\"color\": \"red\", \"width\": 1}, \"type\": \"scattergeo\"}, {\"opacity\": 0.061269146608315096, \"locationmode\": \"USA-states\", \"lon\": [-157.92240719999998, -122.3748433], \"mode\": \"lines\", \"lat\": [21.31869111, 37.61900194], \"line\": {\"color\": \"red\", \"width\": 1}, \"type\": \"scattergeo\"}, {\"opacity\": 0.3676148796498906, \"locationmode\": \"USA-states\", \"lon\": [-118.40807439999999, -122.3748433], \"mode\": \"lines\", \"lat\": [33.94253611, 37.61900194], \"line\": {\"color\": \"red\", \"width\": 1}, \"type\": \"scattergeo\"}, {\"opacity\": 0.35667396061269147, \"locationmode\": \"USA-states\", \"lon\": [-87.90446417, -122.3748433], \"mode\": \"lines\", \"lat\": [41.979595, 37.61900194], \"line\": {\"color\": \"red\", \"width\": 1}, \"type\": \"scattergeo\"}, {\"opacity\": 0.13129102844638948, \"locationmode\": \"USA-states\", \"lon\": [-97.0372, -66.00183333], \"mode\": \"lines\", \"lat\": [32.89595056, 18.43941667], \"line\": {\"color\": \"red\", \"width\": 1}, \"type\": \"scattergeo\"}, {\"opacity\": 0.061269146608315096, \"locationmode\": \"USA-states\", \"lon\": [-77.45580972, -66.00183333], \"mode\": \"lines\", \"lat\": [38.94453194, 18.43941667], \"line\": {\"color\": \"red\", \"width\": 1}, \"type\": \"scattergeo\"}, {\"opacity\": 0.1838074398249453, \"locationmode\": \"USA-states\", \"lon\": [-73.77892556, -66.00183333], \"mode\": \"lines\", \"lat\": [40.63975111, 18.43941667], \"line\": {\"color\": \"red\", \"width\": 1}, \"type\": \"scattergeo\"}, {\"opacity\": 0.0175054704595186, \"locationmode\": \"USA-states\", \"lon\": [-118.40807439999999, -66.00183333], \"mode\": \"lines\", \"lat\": [33.94253611, 18.43941667], \"line\": {\"color\": \"red\", \"width\": 1}, \"type\": \"scattergeo\"}, {\"opacity\": 0.24507658643326038, \"locationmode\": \"USA-states\", \"lon\": [-97.0372, -121.5907669], \"mode\": \"lines\", \"lat\": [32.89595056, 38.69542167], \"line\": {\"color\": \"red\", \"width\": 1}, \"type\": \"scattergeo\"}, {\"opacity\": 0.6323851203501094, \"locationmode\": \"USA-states\", \"lon\": [-97.0372, -117.86822250000002], \"mode\": \"lines\", \"lat\": [32.89595056, 33.67565861], \"line\": {\"color\": \"red\", \"width\": 1}, \"type\": \"scattergeo\"}, {\"opacity\": 0.16630196936542668, \"locationmode\": \"USA-states\", \"lon\": [-87.90446417, -117.86822250000002], \"mode\": \"lines\", \"lat\": [41.979595, 33.67565861], \"line\": {\"color\": \"red\", \"width\": 1}, \"type\": \"scattergeo\"}, {\"opacity\": 0.2188183807439825, \"locationmode\": \"USA-states\", \"lon\": [-77.03772222, -90.35998972], \"mode\": \"lines\", \"lat\": [38.85208333, 38.74768694], \"line\": {\"color\": \"red\", \"width\": 1}, \"type\": \"scattergeo\"}, {\"opacity\": 0.1838074398249453, \"locationmode\": \"USA-states\", \"lon\": [-80.29055556, -90.35998972], \"mode\": \"lines\", \"lat\": [25.79325, 38.74768694], \"line\": {\"color\": \"red\", \"width\": 1}, \"type\": \"scattergeo\"}, {\"opacity\": 0.12253829321663019, \"locationmode\": \"USA-states\", \"lon\": [-80.29055556, -64.97336111], \"mode\": \"lines\", \"lat\": [25.79325, 18.33730556], \"line\": {\"color\": \"red\", \"width\": 1}, \"type\": \"scattergeo\"}, {\"opacity\": 0.06783369803063458, \"locationmode\": \"USA-states\", \"lon\": [-80.29055556, -64.79855556], \"mode\": \"lines\", \"lat\": [25.79325, 17.70188889], \"line\": {\"color\": \"red\", \"width\": 1}, \"type\": \"scattergeo\"}, {\"opacity\": 0.4288840262582057, \"locationmode\": \"USA-states\", \"lon\": [-97.0372, -82.53325], \"mode\": \"lines\", \"lat\": [32.89595056, 27.97547222], \"line\": {\"color\": \"red\", \"width\": 1}, \"type\": \"scattergeo\"}, {\"opacity\": 0.32603938730853393, \"locationmode\": \"USA-states\", \"lon\": [-80.29055556, -82.53325], \"mode\": \"lines\", \"lat\": [25.79325, 27.97547222], \"line\": {\"color\": \"red\", \"width\": 1}, \"type\": \"scattergeo\"}, {\"opacity\": 0.16411378555798686, \"locationmode\": \"USA-states\", \"lon\": [-87.90446417, -82.53325], \"mode\": \"lines\", \"lat\": [41.979595, 27.97547222], \"line\": {\"color\": \"red\", \"width\": 1}, \"type\": \"scattergeo\"}, {\"opacity\": 0.061269146608315096, \"locationmode\": \"USA-states\", \"lon\": [-66.00183333, -82.53325], \"mode\": \"lines\", \"lat\": [18.43941667, 27.97547222], \"line\": {\"color\": \"red\", \"width\": 1}, \"type\": \"scattergeo\"}, {\"opacity\": 0.42669584245076586, \"locationmode\": \"USA-states\", \"lon\": [-97.0372, -95.88824167], \"mode\": \"lines\", \"lat\": [32.89595056, 36.19837222], \"line\": {\"color\": \"red\", \"width\": 1}, \"type\": \"scattergeo\"}, {\"opacity\": 0.45842450765864334, \"locationmode\": \"USA-states\", \"lon\": [-97.0372, -110.94102779999999], \"mode\": \"lines\", \"lat\": [32.89595056, 32.11608333], \"line\": {\"color\": \"red\", \"width\": 1}, \"type\": \"scattergeo\"}, {\"type\": \"scattergeo\", \"text\": [\"Chicago O'Hare International\", \"William B Hartsfield-Atlanta Intl\", \"Dallas-Fort Worth International\", \"Phoenix Sky Harbor International\", \"Denver Intl\", \"George Bush Intercontinental\", \"San Francisco International\", \"Los Angeles International\", \"Orlando International\", \"Charlotte/Douglas International\", \"Salt Lake City Intl\", \"Tampa International \", \"Newark Intl\", \"McCarran International\", \"Philadelphia Intl\", \"Minneapolis-St Paul Intl\", \"Seattle-Tacoma Intl\", \"LaGuardia\", \"Chicago Midway\", \"Washington Dulles International\", \"San Diego International-Lindbergh \", \"Lambert-St Louis International\", \"Detroit Metropolitan-Wayne County\", \"John F Kennedy Intl\", \"Miami International\", \"Gen Edw L Logan Intl\", \"Sacramento International\", \"Baltimore-Washington International\", \"John Wayne /Orange Co\", \"New Orleans International \", \"San Jose International\", \"Ronald Reagan Washington National\", \"Portland Intl\", \"Southwest Florida International\", \"Palm Beach International\", \"Raleigh-Durham International\", \"William P Hobby\", \"San Antonio International\", \"Fort Lauderdale-Hollywood Int'l\", \"Kansas City International\", \"Metropolitan Oakland International\", \"Pittsburgh International\", \"Memphis International\", \"General Mitchell International\", \"Cleveland-Hopkins Intl\", \"Jacksonville International\", \"Tucson International\", \"Indianapolis International\", \"Reno/Tahoe International\", \"Will Rogers World\", \"Theodore F Green State\", \"Tulsa International\", \"Cincinnati Northern Kentucky Intl\", \"Port Columbus Intl\", \"Louisville International-Standiford \", \"Ontario International\", \"Adams \", \"Dallas Love \", \"Eppley Airfield\", \"Norfolk International\", \"James M Cox Dayton Intl\", \"Greater Rochester Int'l\", \"Northwest Arkansas Regional\", \"Nashville International\", \"Albuquerque International\", \"Jackson International\", \"El Paso International\", \"Richmond International\", \"Bradley International\", \"Midland International\", \"Baton Rouge Metropolitan, Ryan \", \"McGhee-Tyson\", \"City of Colorado Springs Muni\", \"Pensacola Regional\", \"Syracuse-Hancock Intl\", \"Birmingham International\", \"Manchester\", \"Palm Springs International\", \"Sarasota Bradenton International\", \"Corpus Christi International\", \"Huntsville International \", \"Columbia Metropolitan\", \"Lafayette Regional\", \"Santa Barbara Municipal\", \"Spokane Intl\", \"Mobile Regional\", \"Wichita Mid-Continent\", \"Buffalo Niagara Intl\", \"Des Moines International\", \"Harrisburg Intl\", \"Portland International Jetport\", \"Montgomery Regional Apt\", \"Newport News/Williamsburg International\", \"Westchester Cty\", \"Monterey Peninsula\", \"Kent County International\", \"Florida Beach\", \"Yuma MCAS-Yuma International\", \"Aspen-Pitkin Co/Sardy \", \"Tallahassee Regional\", \"Gulfport-Biloxi Regional\", \"Rapid City Regional\", \"Long Beach (Daugherty )\", \"Wilmington International\", \"Blue Grass \", \"Dane County Regional\", \"Mahlon Sweet \", \"Savannah International\", \"Lubbock International\", \"Eastern Iowa \", \"Greenville-Spartanburg\", \"Piedmont Triad International\", \"Long Island - MacArthur\", \"Quad City\", \"Asheville Regional\", \"Akron-Canton Regional\", \"Central Illinois Regional\", \"Valley International\", \"Eglin Air Force Base\", \"Shreveport Regional\", \"Hector International\", \"Yampa Valley\", \"Rogue Valley International\", \"Greater Peoria Regional\", \"Laredo International\", \"Austin-Bergstrom International\", \"Abilene Regional\", \"Springfield-Branson Regional\", \"Bishop\", \"Tri-Cities Regional\", \"Robert Gray AAF\", \"Charleston AFB/International\", \"Austin Straubel International\", \"Roberts \", \"Columbus Metropolitan\", \"South Bend Regional\", \"Boise Air Terminal\", \"Myrtle Beach International\", \"Minot International\", \"University of Illinois-Willard\", \"Roanoke Regional/ Woodrum \", \"Eagle County Regional\", \"Jackson Hole\", \"Gallatin \", \"Walker \", \"Burbank-Glendale-Pasadena\", \"Evansville Regional\", \"Gunnison County\", \"Idaho Falls Regional\", \"Fresno Yosemite International\", \"Capital\", \"McAllen Miller International\", \"Redding Municipal\", \"Grand Forks International\", \"Joe Foss \", \"Joslin Field - Magic Valley\", \"Santa Maria Pub/Capt G Allan Hancock \", \"Pocatello Regional\", \"Dothan \", \"Albert J Ellis\", \"Montrose Regional\", \"Bismarck Municipal\", \"Natrona County Intl\", \"Cherry Capital\", \"Monroe Regional\", \"Tri-Cities\", \"Manhattan Regional\", \"Alexandria International\", \"North Bend Muni\", \"Santa Fe Municipal\", \"Klamath Falls International\", \"Stewart\", \"Charlottesville-Albermarle\", \"Valdosta Regional\", \"Central Wisconsin\", \"Inyokern\", \"Arcata\", \"Glynco Jetport\", \"Lincoln Municipal\", \"Fort Wayne International\", \"Yellowstone Regional\", \"Barkley Regional\", \"San Luis Obispo Co-McChesney \", \"Wilkes-Barre/Scranton Intl\", \"Golden Triangle Regional\", \"Gillette-Campbell County\", \"Craven County Regional\", \"Bush \", \"Fort Smith Regional\", \"Tyler Pounds \", \"Helena Regional\", \"Great Falls Intl\", \"Key \", \"Marquette County Airport\", \"Telluride Regional\", \"Lovell \", \"Lewiston-Nez Perce County\", \"Cedar City Muni\", \"Albany Cty\", \"Burlington International\", \"Glacier Park Intl\", \"Melbourne International \", \"Daytona Beach International\", \"Lehigh Valley International\", \"Duluth International\", \"Cheyenne\", \"Rock Springs-Sweetwater County\", \"Greenbrier Valley\", \"Yeager\", \"Bellingham Intl\", \"Mammoth Yosemite\", \"Outagamie County Regional\", \"Branson Airport\", \"St. Petersburg-Clearwater International\", \"Sheppard AFB/Wichita Falls Municipal\", \"Fayetteville Municipal\", \"Chippewa Valley Regional\", \"Dubuque Municipal\", \"Rochester International\", \"Tunica Municipal Airport\", \"Billings Logan Intl\"], \"lon\": [-87.90446417, -84.42694444, -97.0372, -112.00805559999999, -104.6670019, -95.33972222, -122.3748433, -118.40807439999999, -81.31602778, -80.94312583, -111.9777731, -82.53325, -74.16866056, -115.15233329999998, -75.24114083, -93.2169225, -122.30931310000001, -73.87260917, -87.75242444, -77.45580972, -117.1896567, -90.35998972, -83.34883583, -73.77892556, -80.29055556, -71.00517917, -121.5907669, -76.66819833, -117.86822250000002, -90.25802778, -121.92900890000001, -77.03772222, -122.5975, -81.75516667, -80.09559417, -78.78747222, -95.27888889, -98.46977778, -80.15275, -94.71390556, -122.22071670000001, -80.23287083, -89.97666667, -87.89658333, -81.84939667, -81.68786111, -110.94102779999999, -86.29438417, -119.76806470000001, -97.60073389, -71.42822111, -95.88824167, -84.6621725, -82.89188278, -85.736, -117.60119440000001, -92.22424556, -96.85177222, -95.89417306, -76.20122222, -84.219375, -77.67238389, -94.30681111, -86.67818222, -106.6091944, -90.07588889, -106.37780559999999, -77.31966667, -72.68322833, -102.20191390000001, -91.14963444, -83.99285583, -104.70025, -87.18744444, -76.10631056, -86.75354972, -71.43705583, -116.5062531, -82.55411111, -97.50121528, -86.77310944, -81.11953944, -91.987655, -119.8403733, -117.5338425, -88.24283333, -97.43304583, -78.73216667, -93.66068222, -76.76340361, -70.30875, -86.39397611, -76.4929875, -73.70757444, -121.84294779999999, -85.52276778, -84.550781, -114.60597220000001, -106.868845, -84.35033333, -89.07009278, -103.0573708, -118.1516111, -77.90255556, -84.60538889, -89.33751361, -123.21868559999999, -81.20213889, -101.8227778, -91.71087222, -82.21885833, -79.9372975, -73.10021194, -90.50753917, -82.54180556, -81.44246556, -88.91595278, -97.65439389, -86.5254, -93.82559833, -96.81498889, -107.21765970000001, -122.8734978, -89.69330556, -99.46154361, -97.66987194, -99.68189722, -93.38685806, -83.74345639, -82.40742056, -97.82779778, -80.04050583, -88.12959000000001, -121.1499633, -84.93886111, -86.31847417, -116.22277779999999, -78.92833333, -101.2803339, -88.27805556, -79.97542833, -106.91769529999999, -110.7377389, -111.15300719999999, -108.5267347, -118.3584969, -87.53062667, -106.9331817, -112.07016670000002, -119.7181389, -89.67761861, -98.23861111, -122.2934019, -97.17611111, -96.74170028, -114.4877356, -120.4575825, -112.59586110000001, -85.44962889, -77.61213778, -107.89383329999998, -100.74672220000001, -106.46446609999998, -85.582235, -92.03768778, -119.11902920000001, -96.67083278, -92.54855611, -124.2460278, -106.08813889999999, -121.7332081, -74.10483833, -78.45286111, -83.27672222, -89.66677944, -117.8295122, -124.1086189, -81.46630556, -96.75925, -85.19514639, -109.02379609999998, -88.77375, -120.64239309999999, -75.72426750000001, -88.59136861, -105.5393614, -77.04294444, -81.96449611, -94.36744111, -95.40238611, -111.9827503, -111.37068529999999, -88.75120556, -87.395361, -107.90848000000001, -85.20378778, -117.01539440000002, -113.098575, -73.80297861, -73.1503125, -114.25506940000001, -80.64580556, -81.05805556, -75.44040167, -92.19364861, -104.81183809999999, -109.0651928, -80.39947222, -81.59318972, -122.53752779999999, -118.8377722, -88.51947556, -92.548828, -82.68743944, -98.49189333, -78.88, -91.48507194, -90.70916722, -92.49798722, -90.348816, -108.54286110000001], \"lat\": [41.979595, 33.64044444, 32.89595056, 33.43416667, 39.85840806, 29.98047222, 37.61900194, 33.94253611, 28.42888889, 35.21401111, 40.78838778, 27.97547222, 40.69249722, 36.08036111, 39.87195278, 44.88054694, 47.44898194, 40.77724306, 41.7859825, 38.94453194, 32.73355611, 38.74768694, 42.21205889, 40.63975111, 25.79325, 42.3643475, 38.69542167, 39.17540167, 33.67565861, 29.99338889, 37.36186194, 38.85208333, 45.58872222, 26.53616667, 26.68316194, 35.87763889, 29.64541861, 29.53369444, 26.07258333, 39.29760528, 37.72129083, 40.49146583, 35.04241667, 42.94722222, 41.41089417, 30.49405556, 32.11608333, 39.71732917, 39.49857611, 35.39308833, 41.72399917, 36.19837222, 39.04614278, 39.99798528, 38.17438889, 34.056, 34.72939611, 32.84711389, 41.30251861, 36.89461111, 39.90237583, 43.11886611, 36.28186944, 36.12447667, 35.04022222, 32.31116667, 31.80666667, 37.50516667, 41.93887417, 31.94252778, 30.53316083, 35.81248722, 38.80580556, 30.47330556, 43.11118694, 33.56294306, 42.93451639, 33.82921556, 27.39533333, 27.77036083, 34.6404475, 33.93884, 30.20527972, 34.42621194, 47.61985556, 30.69141667, 37.64995889, 42.94052472, 41.53493306, 40.19349528, 43.64616667, 32.30064417, 37.13189556, 41.06695778, 36.5869825, 42.88081972, 30.448674, 32.65658333, 39.22316, 30.39652778, 30.40728028, 44.04532139, 33.81772222, 34.27061111, 38.03697222, 43.13985778, 44.123259999999995, 32.12758333, 33.66363889, 41.88458833, 34.89566722, 36.09774694, 40.7952425, 41.44852639, 35.43619444, 40.91631194, 40.47798556, 26.22850611, 30.48325, 32.446627500000005, 46.91934889, 40.48118028, 42.37422778, 40.66424333, 27.54373861, 30.19453278, 32.41132, 37.24432611, 42.96550333, 36.47521417, 31.06489778, 32.89864639, 44.48507333, 44.25406722, 32.51633333, 41.70895361, 43.56444444, 33.67975, 48.25937778, 40.03925, 37.32546833, 39.64256778, 43.60732417, 45.77690139, 39.1224125, 34.20061917, 38.03799139, 38.53396333, 43.51455556, 36.77619444, 39.84395194, 26.17583333, 40.50898361, 47.949255, 43.58135111, 42.48180389, 34.89924833, 42.91130556, 31.32133917, 34.82916444, 38.50886722, 46.77411111, 42.90835556, 44.74144472, 32.51086556, 46.26468028, 39.14096722, 31.32737167, 43.41713889, 35.61677778, 42.15614361, 41.50409361, 38.13863889, 30.7825, 44.77761917, 35.65884306, 40.97811528, 31.25902778, 40.85097222, 40.97846583, 44.52019417, 37.06083333, 35.23705806, 41.33814944, 33.45033444, 44.34889806, 35.07297222, 33.369955, 35.33659028, 32.35413889, 46.60681806, 47.48200194, 32.33313333, 46.353639, 37.95375861, 35.03526833, 46.37449806, 37.70097028, 42.74811944, 44.47300361, 48.31140472, 28.10275, 29.17991667, 40.65236278, 46.84209028, 41.155722499999996, 41.5942175, 37.85830556, 38.37315083, 48.79275, 37.62404861, 44.25740806, 36.385913, 27.91076333, 33.98879611, 34.99147222, 44.86525722, 42.40295944, 43.90882639, 34.681499, 45.8076625], \"mode\": \"markers\", \"hoverinfo\": \"text\", \"marker\": {\"color\": \"rgb(255, 0, 0)\", \"line\": {\"color\": \"rgba(68, 68, 68, 0)\", \"width\": 3}, \"size\": 2}, \"locationmode\": \"USA-states\"}], {\"showlegend\": false, \"title\": \"Feb. 2011 American Airline flight paths<br>(Hover for airport names)\", \"geo\": {\"showland\": true, \"landcolor\": \"rgb(243, 243, 243)\", \"countrycolor\": \"rgb(204, 204, 204)\", \"projection\": {\"type\": \"azimuthal equal area\"}, \"scope\": \"north america\"}, \"height\": 800}, {\"linkText\": \"Export to plot.ly\", \"showLink\": true})});</script>"
      ],
      "text/plain": [
       "<IPython.core.display.HTML object>"
      ]
     },
     "metadata": {},
     "output_type": "display_data"
    }
   ],
   "source": [
    "\n",
    "df_airports = pd.read_csv('https://raw.githubusercontent.com/plotly/datasets/master/2011_february_us_airport_traffic.csv')\n",
    "df_airports.head()\n",
    "\n",
    "df_flight_paths = pd.read_csv('https://raw.githubusercontent.com/plotly/datasets/master/2011_february_aa_flight_paths.csv')\n",
    "df_flight_paths.head()\n",
    "\n",
    "airports = [ dict(\n",
    "        type = 'scattergeo',\n",
    "        locationmode = 'USA-states',\n",
    "        lon = df_airports['long'],\n",
    "        lat = df_airports['lat'],\n",
    "        hoverinfo = 'text',\n",
    "        text = df_airports['airport'],\n",
    "        mode = 'markers',\n",
    "        marker = dict(\n",
    "            size=2,\n",
    "            color='rgb(255, 0, 0)',\n",
    "            line = dict(\n",
    "                width=3,\n",
    "                color='rgba(68, 68, 68, 0)'\n",
    "            )\n",
    "        ))]\n",
    "\n",
    "flight_paths = []\n",
    "for i in range( len( df_flight_paths ) ):\n",
    "    flight_paths.append(\n",
    "        dict(\n",
    "            type = 'scattergeo',\n",
    "            locationmode = 'USA-states',\n",
    "            lon = [ df_flight_paths['start_lon'][i], df_flight_paths['end_lon'][i] ],\n",
    "            lat = [ df_flight_paths['start_lat'][i], df_flight_paths['end_lat'][i] ],\n",
    "            mode = 'lines',\n",
    "            line = dict(\n",
    "                width = 1,\n",
    "                color = 'red',\n",
    "            ),\n",
    "            opacity = float(df_flight_paths['cnt'][i])/float(df_flight_paths['cnt'].max()),\n",
    "        )\n",
    "    )\n",
    "\n",
    "layout = dict(\n",
    "        title = 'Feb. 2011 American Airline flight paths<br>(Hover for airport names)',\n",
    "        showlegend = False,\n",
    "        height = 800,\n",
    "        geo = dict(\n",
    "            scope='north america',\n",
    "            projection=dict( type='azimuthal equal area' ),\n",
    "            showland = True,\n",
    "            landcolor = 'rgb(243, 243, 243)',\n",
    "            countrycolor = 'rgb(204, 204, 204)',\n",
    "        ),\n",
    "    )\n",
    "\n",
    "fig = dict( data=flight_paths + airports, layout=layout )\n",
    "\n",
    "iplot(fig)"
   ]
  }
 ],
 "metadata": {
  "kernelspec": {
   "display_name": "Python [conda root]",
   "language": "python",
   "name": "conda-root-py"
  },
  "language_info": {
   "codemirror_mode": {
    "name": "ipython",
    "version": 2
   },
   "file_extension": ".py",
   "mimetype": "text/x-python",
   "name": "python",
   "nbconvert_exporter": "python",
   "pygments_lexer": "ipython2",
   "version": "2.7.12"
  }
 },
 "nbformat": 4,
 "nbformat_minor": 0
}
