{
 "cells": [
  {
   "cell_type": "markdown",
   "metadata": {},
   "source": [
    "# Exercise 2: More data\n"
   ]
  },
  {
   "cell_type": "markdown",
   "metadata": {},
   "source": [
    "#Step one of our algorithm: Get library that grabs data from google"
   ]
  },
  {
   "cell_type": "code",
   "execution_count": 11,
   "metadata": {
    "collapsed": false,
    "scrolled": true
   },
   "outputs": [
    {
     "name": "stdout",
     "output_type": "stream",
     "text": [
      "Requirement already satisfied: yahoo-finance in /Users/fpombeiro/anaconda2/lib/python2.7/site-packages\r\n",
      "Requirement already satisfied: pytz in /Users/fpombeiro/anaconda2/lib/python2.7/site-packages (from yahoo-finance)\r\n",
      "Requirement already satisfied: simplejson in /Users/fpombeiro/anaconda2/lib/python2.7/site-packages (from yahoo-finance)\r\n"
     ]
    }
   ],
   "source": [
    "!pip install yahoo-finance"
   ]
  },
  {
   "cell_type": "code",
   "execution_count": 13,
   "metadata": {
    "collapsed": false
   },
   "outputs": [],
   "source": [
    "from yahoo_finance import Share"
   ]
  },
  {
   "cell_type": "markdown",
   "metadata": {},
   "source": [
    "#Step two: Reach out to google finance API and get some data"
   ]
  },
  {
   "cell_type": "code",
   "execution_count": 15,
   "metadata": {
    "collapsed": false
   },
   "outputs": [],
   "source": [
    "apple = Share('AAPL')"
   ]
  },
  {
   "cell_type": "code",
   "execution_count": 16,
   "metadata": {
    "collapsed": false
   },
   "outputs": [
    {
     "data": {
      "text/plain": [
       "'115.82'"
      ]
     },
     "execution_count": 16,
     "metadata": {},
     "output_type": "execute_result"
    }
   ],
   "source": [
    "apple.get_price()"
   ]
  },
  {
   "cell_type": "markdown",
   "metadata": {},
   "source": [
    "#Okay- so as this seems to be working- let's get some historical data!"
   ]
  },
  {
   "cell_type": "code",
   "execution_count": 27,
   "metadata": {
    "collapsed": true
   },
   "outputs": [],
   "source": [
    "historical_apple = apple.get_historical('2016-12-01', '2016-12-21')"
   ]
  },
  {
   "cell_type": "code",
   "execution_count": 28,
   "metadata": {
    "collapsed": false
   },
   "outputs": [
    {
     "data": {
      "text/plain": [
       "[{'Adj_Close': '117.059998',\n",
       "  'Close': '117.059998',\n",
       "  'Date': '2016-12-21',\n",
       "  'High': '117.400002',\n",
       "  'Low': '116.779999',\n",
       "  'Open': '116.800003',\n",
       "  'Symbol': 'AAPL',\n",
       "  'Volume': '24216900'},\n",
       " {'Adj_Close': '116.949997',\n",
       "  'Close': '116.949997',\n",
       "  'Date': '2016-12-20',\n",
       "  'High': '117.50',\n",
       "  'Low': '116.68',\n",
       "  'Open': '116.739998',\n",
       "  'Symbol': 'AAPL',\n",
       "  'Volume': '20905800'},\n",
       " {'Adj_Close': '116.639999',\n",
       "  'Close': '116.639999',\n",
       "  'Date': '2016-12-19',\n",
       "  'High': '117.379997',\n",
       "  'Low': '115.75',\n",
       "  'Open': '115.800003',\n",
       "  'Symbol': 'AAPL',\n",
       "  'Volume': '27675400'},\n",
       " {'Adj_Close': '115.970001',\n",
       "  'Close': '115.970001',\n",
       "  'Date': '2016-12-16',\n",
       "  'High': '116.50',\n",
       "  'Low': '115.650002',\n",
       "  'Open': '116.470001',\n",
       "  'Symbol': 'AAPL',\n",
       "  'Volume': '44055400'},\n",
       " {'Adj_Close': '115.82',\n",
       "  'Close': '115.82',\n",
       "  'Date': '2016-12-15',\n",
       "  'High': '116.730003',\n",
       "  'Low': '115.230003',\n",
       "  'Open': '115.379997',\n",
       "  'Symbol': 'AAPL',\n",
       "  'Volume': '46232200'},\n",
       " {'Adj_Close': '115.190002',\n",
       "  'Close': '115.190002',\n",
       "  'Date': '2016-12-14',\n",
       "  'High': '116.199997',\n",
       "  'Low': '114.980003',\n",
       "  'Open': '115.040001',\n",
       "  'Symbol': 'AAPL',\n",
       "  'Volume': '33433200'},\n",
       " {'Adj_Close': '115.190002',\n",
       "  'Close': '115.190002',\n",
       "  'Date': '2016-12-13',\n",
       "  'High': '115.919998',\n",
       "  'Low': '113.75',\n",
       "  'Open': '113.839996',\n",
       "  'Symbol': 'AAPL',\n",
       "  'Volume': '43167500'},\n",
       " {'Adj_Close': '113.300003',\n",
       "  'Close': '113.300003',\n",
       "  'Date': '2016-12-12',\n",
       "  'High': '115.00',\n",
       "  'Low': '112.489998',\n",
       "  'Open': '113.290001',\n",
       "  'Symbol': 'AAPL',\n",
       "  'Volume': '26149100'},\n",
       " {'Adj_Close': '113.949997',\n",
       "  'Close': '113.949997',\n",
       "  'Date': '2016-12-09',\n",
       "  'High': '114.699997',\n",
       "  'Low': '112.309998',\n",
       "  'Open': '112.309998',\n",
       "  'Symbol': 'AAPL',\n",
       "  'Volume': '34274100'},\n",
       " {'Adj_Close': '112.120003',\n",
       "  'Close': '112.120003',\n",
       "  'Date': '2016-12-08',\n",
       "  'High': '112.43',\n",
       "  'Low': '110.599998',\n",
       "  'Open': '110.860001',\n",
       "  'Symbol': 'AAPL',\n",
       "  'Volume': '26818500'},\n",
       " {'Adj_Close': '111.029999',\n",
       "  'Close': '111.029999',\n",
       "  'Date': '2016-12-07',\n",
       "  'High': '111.190002',\n",
       "  'Low': '109.160004',\n",
       "  'Open': '109.260002',\n",
       "  'Symbol': 'AAPL',\n",
       "  'Volume': '29853000'},\n",
       " {'Adj_Close': '109.949997',\n",
       "  'Close': '109.949997',\n",
       "  'Date': '2016-12-06',\n",
       "  'High': '110.360001',\n",
       "  'Low': '109.190002',\n",
       "  'Open': '109.50',\n",
       "  'Symbol': 'AAPL',\n",
       "  'Volume': '26075900'},\n",
       " {'Adj_Close': '109.110001',\n",
       "  'Close': '109.110001',\n",
       "  'Date': '2016-12-05',\n",
       "  'High': '110.029999',\n",
       "  'Low': '108.25',\n",
       "  'Open': '110.00',\n",
       "  'Symbol': 'AAPL',\n",
       "  'Volume': '34037300'},\n",
       " {'Adj_Close': '109.900002',\n",
       "  'Close': '109.900002',\n",
       "  'Date': '2016-12-02',\n",
       "  'High': '110.089996',\n",
       "  'Low': '108.849998',\n",
       "  'Open': '109.169998',\n",
       "  'Symbol': 'AAPL',\n",
       "  'Volume': '26409800'},\n",
       " {'Adj_Close': '109.489998',\n",
       "  'Close': '109.489998',\n",
       "  'Date': '2016-12-01',\n",
       "  'High': '110.940002',\n",
       "  'Low': '109.029999',\n",
       "  'Open': '110.370003',\n",
       "  'Symbol': 'AAPL',\n",
       "  'Volume': '36825800'}]"
      ]
     },
     "execution_count": 28,
     "metadata": {},
     "output_type": "execute_result"
    }
   ],
   "source": [
    "historical_apple"
   ]
  },
  {
   "cell_type": "markdown",
   "metadata": {},
   "source": [
    "#Now we're going to put our data into a format that we can easily comprehend- the dataframe.\n",
    "#First we need to install another library:"
   ]
  },
  {
   "cell_type": "code",
   "execution_count": 19,
   "metadata": {
    "collapsed": false
   },
   "outputs": [
    {
     "name": "stdout",
     "output_type": "stream",
     "text": [
      "Requirement already satisfied: pandas in /Users/fpombeiro/anaconda2/lib/python2.7/site-packages\n",
      "Requirement already satisfied: python-dateutil in /Users/fpombeiro/anaconda2/lib/python2.7/site-packages (from pandas)\n",
      "Requirement already satisfied: pytz>=2011k in /Users/fpombeiro/anaconda2/lib/python2.7/site-packages (from pandas)\n",
      "Requirement already satisfied: numpy>=1.7.0 in /Users/fpombeiro/anaconda2/lib/python2.7/site-packages (from pandas)\n",
      "Requirement already satisfied: six>=1.5 in /Users/fpombeiro/anaconda2/lib/python2.7/site-packages (from python-dateutil->pandas)\n"
     ]
    }
   ],
   "source": [
    "!pip install pandas"
   ]
  },
  {
   "cell_type": "markdown",
   "metadata": {},
   "source": [
    "#Now we need to import the library we just got."
   ]
  },
  {
   "cell_type": "code",
   "execution_count": 20,
   "metadata": {
    "collapsed": true
   },
   "outputs": [],
   "source": [
    "import pandas as pd"
   ]
  },
  {
   "cell_type": "code",
   "execution_count": 29,
   "metadata": {
    "collapsed": true
   },
   "outputs": [],
   "source": [
    "apple_df = pd.DataFrame(historical_apple)"
   ]
  },
  {
   "cell_type": "code",
   "execution_count": 49,
   "metadata": {
    "collapsed": false
   },
   "outputs": [
    {
     "data": {
      "text/html": [
       "<div>\n",
       "<table border=\"1\" class=\"dataframe\">\n",
       "  <thead>\n",
       "    <tr style=\"text-align: right;\">\n",
       "      <th></th>\n",
       "      <th>Adj_Close</th>\n",
       "      <th>Close</th>\n",
       "      <th>Date</th>\n",
       "      <th>High</th>\n",
       "      <th>Low</th>\n",
       "      <th>Open</th>\n",
       "      <th>Symbol</th>\n",
       "      <th>Volume</th>\n",
       "    </tr>\n",
       "  </thead>\n",
       "  <tbody>\n",
       "    <tr>\n",
       "      <th>0</th>\n",
       "      <td>117.059998</td>\n",
       "      <td>117.059998</td>\n",
       "      <td>2016-12-21</td>\n",
       "      <td>117.400002</td>\n",
       "      <td>116.779999</td>\n",
       "      <td>116.800003</td>\n",
       "      <td>AAPL</td>\n",
       "      <td>24216900</td>\n",
       "    </tr>\n",
       "    <tr>\n",
       "      <th>1</th>\n",
       "      <td>116.949997</td>\n",
       "      <td>116.949997</td>\n",
       "      <td>2016-12-20</td>\n",
       "      <td>117.50</td>\n",
       "      <td>116.68</td>\n",
       "      <td>116.739998</td>\n",
       "      <td>AAPL</td>\n",
       "      <td>20905800</td>\n",
       "    </tr>\n",
       "    <tr>\n",
       "      <th>2</th>\n",
       "      <td>116.639999</td>\n",
       "      <td>116.639999</td>\n",
       "      <td>2016-12-19</td>\n",
       "      <td>117.379997</td>\n",
       "      <td>115.75</td>\n",
       "      <td>115.800003</td>\n",
       "      <td>AAPL</td>\n",
       "      <td>27675400</td>\n",
       "    </tr>\n",
       "    <tr>\n",
       "      <th>3</th>\n",
       "      <td>115.970001</td>\n",
       "      <td>115.970001</td>\n",
       "      <td>2016-12-16</td>\n",
       "      <td>116.50</td>\n",
       "      <td>115.650002</td>\n",
       "      <td>116.470001</td>\n",
       "      <td>AAPL</td>\n",
       "      <td>44055400</td>\n",
       "    </tr>\n",
       "    <tr>\n",
       "      <th>4</th>\n",
       "      <td>115.82</td>\n",
       "      <td>115.82</td>\n",
       "      <td>2016-12-15</td>\n",
       "      <td>116.730003</td>\n",
       "      <td>115.230003</td>\n",
       "      <td>115.379997</td>\n",
       "      <td>AAPL</td>\n",
       "      <td>46232200</td>\n",
       "    </tr>\n",
       "    <tr>\n",
       "      <th>5</th>\n",
       "      <td>115.190002</td>\n",
       "      <td>115.190002</td>\n",
       "      <td>2016-12-14</td>\n",
       "      <td>116.199997</td>\n",
       "      <td>114.980003</td>\n",
       "      <td>115.040001</td>\n",
       "      <td>AAPL</td>\n",
       "      <td>33433200</td>\n",
       "    </tr>\n",
       "    <tr>\n",
       "      <th>6</th>\n",
       "      <td>115.190002</td>\n",
       "      <td>115.190002</td>\n",
       "      <td>2016-12-13</td>\n",
       "      <td>115.919998</td>\n",
       "      <td>113.75</td>\n",
       "      <td>113.839996</td>\n",
       "      <td>AAPL</td>\n",
       "      <td>43167500</td>\n",
       "    </tr>\n",
       "    <tr>\n",
       "      <th>7</th>\n",
       "      <td>113.300003</td>\n",
       "      <td>113.300003</td>\n",
       "      <td>2016-12-12</td>\n",
       "      <td>115.00</td>\n",
       "      <td>112.489998</td>\n",
       "      <td>113.290001</td>\n",
       "      <td>AAPL</td>\n",
       "      <td>26149100</td>\n",
       "    </tr>\n",
       "    <tr>\n",
       "      <th>8</th>\n",
       "      <td>113.949997</td>\n",
       "      <td>113.949997</td>\n",
       "      <td>2016-12-09</td>\n",
       "      <td>114.699997</td>\n",
       "      <td>112.309998</td>\n",
       "      <td>112.309998</td>\n",
       "      <td>AAPL</td>\n",
       "      <td>34274100</td>\n",
       "    </tr>\n",
       "    <tr>\n",
       "      <th>9</th>\n",
       "      <td>112.120003</td>\n",
       "      <td>112.120003</td>\n",
       "      <td>2016-12-08</td>\n",
       "      <td>112.43</td>\n",
       "      <td>110.599998</td>\n",
       "      <td>110.860001</td>\n",
       "      <td>AAPL</td>\n",
       "      <td>26818500</td>\n",
       "    </tr>\n",
       "    <tr>\n",
       "      <th>10</th>\n",
       "      <td>111.029999</td>\n",
       "      <td>111.029999</td>\n",
       "      <td>2016-12-07</td>\n",
       "      <td>111.190002</td>\n",
       "      <td>109.160004</td>\n",
       "      <td>109.260002</td>\n",
       "      <td>AAPL</td>\n",
       "      <td>29853000</td>\n",
       "    </tr>\n",
       "    <tr>\n",
       "      <th>11</th>\n",
       "      <td>109.949997</td>\n",
       "      <td>109.949997</td>\n",
       "      <td>2016-12-06</td>\n",
       "      <td>110.360001</td>\n",
       "      <td>109.190002</td>\n",
       "      <td>109.50</td>\n",
       "      <td>AAPL</td>\n",
       "      <td>26075900</td>\n",
       "    </tr>\n",
       "    <tr>\n",
       "      <th>12</th>\n",
       "      <td>109.110001</td>\n",
       "      <td>109.110001</td>\n",
       "      <td>2016-12-05</td>\n",
       "      <td>110.029999</td>\n",
       "      <td>108.25</td>\n",
       "      <td>110.00</td>\n",
       "      <td>AAPL</td>\n",
       "      <td>34037300</td>\n",
       "    </tr>\n",
       "    <tr>\n",
       "      <th>13</th>\n",
       "      <td>109.900002</td>\n",
       "      <td>109.900002</td>\n",
       "      <td>2016-12-02</td>\n",
       "      <td>110.089996</td>\n",
       "      <td>108.849998</td>\n",
       "      <td>109.169998</td>\n",
       "      <td>AAPL</td>\n",
       "      <td>26409800</td>\n",
       "    </tr>\n",
       "    <tr>\n",
       "      <th>14</th>\n",
       "      <td>109.489998</td>\n",
       "      <td>109.489998</td>\n",
       "      <td>2016-12-01</td>\n",
       "      <td>110.940002</td>\n",
       "      <td>109.029999</td>\n",
       "      <td>110.370003</td>\n",
       "      <td>AAPL</td>\n",
       "      <td>36825800</td>\n",
       "    </tr>\n",
       "  </tbody>\n",
       "</table>\n",
       "</div>"
      ],
      "text/plain": [
       "     Adj_Close       Close        Date        High         Low        Open  \\\n",
       "0   117.059998  117.059998  2016-12-21  117.400002  116.779999  116.800003   \n",
       "1   116.949997  116.949997  2016-12-20      117.50      116.68  116.739998   \n",
       "2   116.639999  116.639999  2016-12-19  117.379997      115.75  115.800003   \n",
       "3   115.970001  115.970001  2016-12-16      116.50  115.650002  116.470001   \n",
       "4       115.82      115.82  2016-12-15  116.730003  115.230003  115.379997   \n",
       "5   115.190002  115.190002  2016-12-14  116.199997  114.980003  115.040001   \n",
       "6   115.190002  115.190002  2016-12-13  115.919998      113.75  113.839996   \n",
       "7   113.300003  113.300003  2016-12-12      115.00  112.489998  113.290001   \n",
       "8   113.949997  113.949997  2016-12-09  114.699997  112.309998  112.309998   \n",
       "9   112.120003  112.120003  2016-12-08      112.43  110.599998  110.860001   \n",
       "10  111.029999  111.029999  2016-12-07  111.190002  109.160004  109.260002   \n",
       "11  109.949997  109.949997  2016-12-06  110.360001  109.190002      109.50   \n",
       "12  109.110001  109.110001  2016-12-05  110.029999      108.25      110.00   \n",
       "13  109.900002  109.900002  2016-12-02  110.089996  108.849998  109.169998   \n",
       "14  109.489998  109.489998  2016-12-01  110.940002  109.029999  110.370003   \n",
       "\n",
       "   Symbol    Volume  \n",
       "0    AAPL  24216900  \n",
       "1    AAPL  20905800  \n",
       "2    AAPL  27675400  \n",
       "3    AAPL  44055400  \n",
       "4    AAPL  46232200  \n",
       "5    AAPL  33433200  \n",
       "6    AAPL  43167500  \n",
       "7    AAPL  26149100  \n",
       "8    AAPL  34274100  \n",
       "9    AAPL  26818500  \n",
       "10   AAPL  29853000  \n",
       "11   AAPL  26075900  \n",
       "12   AAPL  34037300  \n",
       "13   AAPL  26409800  \n",
       "14   AAPL  36825800  "
      ]
     },
     "execution_count": 49,
     "metadata": {},
     "output_type": "execute_result"
    }
   ],
   "source": [
    "apple_df"
   ]
  },
  {
   "cell_type": "markdown",
   "metadata": {},
   "source": [
    "#That's pretty cool...but as you saw we had to enter manual dates in there, right? \n",
    "#Let's see if we can set this app up so that it knows what day it is and goes a week back \n",
    "#every time it's run."
   ]
  },
  {
   "cell_type": "code",
   "execution_count": 33,
   "metadata": {
    "collapsed": true
   },
   "outputs": [],
   "source": [
    "from datetime import datetime, timedelta"
   ]
  },
  {
   "cell_type": "code",
   "execution_count": 42,
   "metadata": {
    "collapsed": false
   },
   "outputs": [],
   "source": [
    "rightnow = datetime.now()"
   ]
  },
  {
   "cell_type": "code",
   "execution_count": 43,
   "metadata": {
    "collapsed": false
   },
   "outputs": [
    {
     "name": "stdout",
     "output_type": "stream",
     "text": [
      "31 12 2016 18\n"
     ]
    }
   ],
   "source": [
    "print rightnow.day, rightnow.month, rightnow.year, rightnow.hour"
   ]
  },
  {
   "cell_type": "code",
   "execution_count": 44,
   "metadata": {
    "collapsed": false
   },
   "outputs": [],
   "source": [
    "oneweekago = datetime.now() - timedelta(days=7)"
   ]
  },
  {
   "cell_type": "code",
   "execution_count": 45,
   "metadata": {
    "collapsed": false
   },
   "outputs": [
    {
     "name": "stdout",
     "output_type": "stream",
     "text": [
      "2016-12-24\n"
     ]
    }
   ],
   "source": [
    "print oneweekago.strftime('%Y-%m-%d')"
   ]
  },
  {
   "cell_type": "markdown",
   "metadata": {},
   "source": [
    "#Okay- so we can turn these data points into strings and then put them into our api!\n",
    "#So your challenge now is to go back and set that up- make it so that the strings\n",
    "#enter into the Share object as variables!"
   ]
  },
  {
   "cell_type": "code",
   "execution_count": 46,
   "metadata": {
    "collapsed": true
   },
   "outputs": [],
   "source": [
    "import matplotlib\n",
    "import numpy as np\n",
    "import matplotlib.pyplot as plt\n",
    "%matplotlib inline  "
   ]
  },
  {
   "cell_type": "code",
   "execution_count": 51,
   "metadata": {
    "collapsed": false
   },
   "outputs": [
    {
     "data": {
      "text/plain": [
       "0     117.059998\n",
       "1     116.949997\n",
       "2     116.639999\n",
       "3     115.970001\n",
       "4         115.82\n",
       "5     115.190002\n",
       "6     115.190002\n",
       "7     113.300003\n",
       "8     113.949997\n",
       "9     112.120003\n",
       "10    111.029999\n",
       "11    109.949997\n",
       "12    109.110001\n",
       "13    109.900002\n",
       "14    109.489998\n",
       "Name: Close, dtype: object"
      ]
     },
     "execution_count": 51,
     "metadata": {},
     "output_type": "execute_result"
    }
   ],
   "source": [
    "apple_df['Close']"
   ]
  },
  {
   "cell_type": "code",
   "execution_count": 69,
   "metadata": {
    "collapsed": false
   },
   "outputs": [],
   "source": [
    "rng = pd.to_datetime(apple_df.Date)"
   ]
  },
  {
   "cell_type": "code",
   "execution_count": 78,
   "metadata": {
    "collapsed": false
   },
   "outputs": [],
   "source": [
    "apple_ts = pd.Series(pd.to_numeric(apple_df.Close.values), index=rng)"
   ]
  },
  {
   "cell_type": "code",
   "execution_count": 79,
   "metadata": {
    "collapsed": false
   },
   "outputs": [
    {
     "data": {
      "text/plain": [
       "Date\n",
       "2016-12-21    117.059998\n",
       "2016-12-20    116.949997\n",
       "2016-12-19    116.639999\n",
       "2016-12-16    115.970001\n",
       "2016-12-15    115.820000\n",
       "2016-12-14    115.190002\n",
       "2016-12-13    115.190002\n",
       "2016-12-12    113.300003\n",
       "2016-12-09    113.949997\n",
       "2016-12-08    112.120003\n",
       "2016-12-07    111.029999\n",
       "2016-12-06    109.949997\n",
       "2016-12-05    109.110001\n",
       "2016-12-02    109.900002\n",
       "2016-12-01    109.489998\n",
       "dtype: float64"
      ]
     },
     "execution_count": 79,
     "metadata": {},
     "output_type": "execute_result"
    }
   ],
   "source": [
    "apple_ts"
   ]
  },
  {
   "cell_type": "code",
   "execution_count": 80,
   "metadata": {
    "collapsed": false
   },
   "outputs": [
    {
     "data": {
      "text/plain": [
       "<matplotlib.axes._subplots.AxesSubplot at 0x118b5fd10>"
      ]
     },
     "execution_count": 80,
     "metadata": {},
     "output_type": "execute_result"
    },
    {
     "data": {
      "image/png": "[encoded data removed]",
      "text/plain": [
       "<matplotlib.figure.Figure at 0x117eb1590>"
      ]
     },
     "metadata": {},
     "output_type": "display_data"
    }
   ],
   "source": [
    "apple_ts.plot()"
   ]
  },
  {
   "cell_type": "code",
   "execution_count": 82,
   "metadata": {
    "collapsed": false
   },
   "outputs": [
    {
     "data": {
      "text/plain": [
       "[<matplotlib.lines.Line2D at 0x11b76e610>]"
      ]
     },
     "execution_count": 82,
     "metadata": {},
     "output_type": "execute_result"
    },
    {
     "data": {
      "image/png": "[encoded data removed]",
      "text/plain": [
       "<matplotlib.figure.Figure at 0x11b6e3f90>"
      ]
     },
     "metadata": {},
     "output_type": "display_data"
    }
   ],
   "source": [
    "plt.plot(apple_ts)"
   ]
  },
  {
   "cell_type": "code",
   "execution_count": 83,
   "metadata": {
    "collapsed": true
   },
   "outputs": [],
   "source": [
    "plt.show()"
   ]
  },
  {
   "cell_type": "markdown",
   "metadata": {},
   "source": [
    "#Let's add to this! Let's make it so that we can add a command line argument when we run\n",
    "#this code. So when we want to look at data for, say, yahoo, "
   ]
  },
  {
   "cell_type": "code",
   "execution_count": 84,
   "metadata": {
    "collapsed": true
   },
   "outputs": [],
   "source": [
    "import sys, getopt"
   ]
  },
  {
   "cell_type": "markdown",
   "metadata": {},
   "source": [
    "#From here you will have to go back and make changes...and that will be your homework!"
   ]
  }
 ],
 "metadata": {
  "anaconda-cloud": {},
  "kernelspec": {
   "display_name": "Python [default]",
   "language": "python",
   "name": "python2"
  },
  "language_info": {
   "codemirror_mode": {
    "name": "ipython",
    "version": 2
   },
   "file_extension": ".py",
   "mimetype": "text/x-python",
   "name": "python",
   "nbconvert_exporter": "python",
   "pygments_lexer": "ipython2",
   "version": "2.7.12"
  }
 },
 "nbformat": 4,
 "nbformat_minor": 1
}
